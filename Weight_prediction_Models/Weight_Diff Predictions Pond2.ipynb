{
 "cells": [
  {
   "cell_type": "code",
   "execution_count": 1,
   "metadata": {},
   "outputs": [
    {
     "name": "stderr",
     "output_type": "stream",
     "text": [
      "/home/rupamay/anaconda3/lib/python3.8/site-packages/pandas/core/computation/expressions.py:20: UserWarning: Pandas requires version '2.7.3' or newer of 'numexpr' (version '2.7.1' currently installed).\n",
      "  from pandas.core.computation.check import NUMEXPR_INSTALLED\n",
      "UsageError: Line magic function `%` not found.\n"
     ]
    }
   ],
   "source": [
    "# Import the modules\n",
    "import tensorflow as tf\n",
    "import numpy as np\n",
    "import pandas as pd\n",
    "import matplotlib.pyplot as plt\n",
    "from sklearn.preprocessing import MinMaxScaler\n",
    "from sklearn.metrics import mean_squared_error, r2_score\n",
    "from sklearn.model_selection import train_test_split\n",
    "import seaborn as sns; sns.set()\n",
    "% matplotlib inline\n",
    "pd.set_option('display.float_format', lambda x: '%.5f' % x)"
   ]
  },
  {
   "cell_type": "code",
   "execution_count": 2,
   "metadata": {},
   "outputs": [],
   "source": [
    "#Load data into a pandas dataframe here\n",
    "df = pd.read_csv(\"cleaned_data_ Folder/cleaned_Pond2.csv\",delimiter=',',low_memory=False)\n",
    "df.drop(['Unnamed: 0'], axis=1, inplace=True) "
   ]
  },
  {
   "cell_type": "code",
   "execution_count": 3,
   "metadata": {},
   "outputs": [
    {
     "data": {
      "text/plain": [
       "Temperature         0\n",
       "Turbidity           0\n",
       "Dissolved Oxygen    0\n",
       "PH                  0\n",
       "Ammonia             0\n",
       "Nitrate             0\n",
       "Population          0\n",
       "Fish_Length         0\n",
       "Fish_Weight         0\n",
       "Datetime            0\n",
       "Date                0\n",
       "Time                0\n",
       "Weight_diff         0\n",
       "dtype: int64"
      ]
     },
     "execution_count": 3,
     "metadata": {},
     "output_type": "execute_result"
    }
   ],
   "source": [
    "df.isnull().sum()"
   ]
  },
  {
   "cell_type": "code",
   "execution_count": 4,
   "metadata": {},
   "outputs": [
    {
     "data": {
      "text/html": [
       "<div>\n",
       "<style scoped>\n",
       "    .dataframe tbody tr th:only-of-type {\n",
       "        vertical-align: middle;\n",
       "    }\n",
       "\n",
       "    .dataframe tbody tr th {\n",
       "        vertical-align: top;\n",
       "    }\n",
       "\n",
       "    .dataframe thead th {\n",
       "        text-align: right;\n",
       "    }\n",
       "</style>\n",
       "<table border=\"1\" class=\"dataframe\">\n",
       "  <thead>\n",
       "    <tr style=\"text-align: right;\">\n",
       "      <th></th>\n",
       "      <th>Temperature</th>\n",
       "      <th>Turbidity</th>\n",
       "      <th>Dissolved Oxygen</th>\n",
       "      <th>PH</th>\n",
       "      <th>Ammonia</th>\n",
       "      <th>Nitrate</th>\n",
       "      <th>Population</th>\n",
       "      <th>Fish_Length</th>\n",
       "      <th>Fish_Weight</th>\n",
       "      <th>Datetime</th>\n",
       "      <th>Date</th>\n",
       "      <th>Time</th>\n",
       "      <th>Weight_diff</th>\n",
       "    </tr>\n",
       "  </thead>\n",
       "  <tbody>\n",
       "    <tr>\n",
       "      <th>0</th>\n",
       "      <td>24.8750</td>\n",
       "      <td>100</td>\n",
       "      <td>4.505</td>\n",
       "      <td>8.43365</td>\n",
       "      <td>0.38</td>\n",
       "      <td>193</td>\n",
       "      <td>50</td>\n",
       "      <td>6.96</td>\n",
       "      <td>3.36</td>\n",
       "      <td>2021-06-19 00:00:05</td>\n",
       "      <td>2021-06-19</td>\n",
       "      <td>00:00:05</td>\n",
       "      <td>0.7</td>\n",
       "    </tr>\n",
       "    <tr>\n",
       "      <th>1</th>\n",
       "      <td>24.9375</td>\n",
       "      <td>100</td>\n",
       "      <td>6.601</td>\n",
       "      <td>8.43818</td>\n",
       "      <td>0.38</td>\n",
       "      <td>194</td>\n",
       "      <td>50</td>\n",
       "      <td>6.96</td>\n",
       "      <td>3.36</td>\n",
       "      <td>2021-06-19 00:01:02</td>\n",
       "      <td>2021-06-19</td>\n",
       "      <td>00:01:02</td>\n",
       "      <td>0.0</td>\n",
       "    </tr>\n",
       "    <tr>\n",
       "      <th>2</th>\n",
       "      <td>24.8750</td>\n",
       "      <td>100</td>\n",
       "      <td>15.797</td>\n",
       "      <td>8.42457</td>\n",
       "      <td>0.38</td>\n",
       "      <td>192</td>\n",
       "      <td>50</td>\n",
       "      <td>6.96</td>\n",
       "      <td>3.36</td>\n",
       "      <td>2021-06-19 00:01:22</td>\n",
       "      <td>2021-06-19</td>\n",
       "      <td>00:01:22</td>\n",
       "      <td>0.0</td>\n",
       "    </tr>\n",
       "    <tr>\n",
       "      <th>3</th>\n",
       "      <td>24.9375</td>\n",
       "      <td>100</td>\n",
       "      <td>5.046</td>\n",
       "      <td>8.43365</td>\n",
       "      <td>0.38</td>\n",
       "      <td>193</td>\n",
       "      <td>50</td>\n",
       "      <td>6.96</td>\n",
       "      <td>3.36</td>\n",
       "      <td>2021-06-19 00:01:44</td>\n",
       "      <td>2021-06-19</td>\n",
       "      <td>00:01:44</td>\n",
       "      <td>0.0</td>\n",
       "    </tr>\n",
       "    <tr>\n",
       "      <th>4</th>\n",
       "      <td>24.9375</td>\n",
       "      <td>100</td>\n",
       "      <td>38.407</td>\n",
       "      <td>8.40641</td>\n",
       "      <td>0.38</td>\n",
       "      <td>192</td>\n",
       "      <td>50</td>\n",
       "      <td>6.96</td>\n",
       "      <td>3.36</td>\n",
       "      <td>2021-06-19 00:02:07</td>\n",
       "      <td>2021-06-19</td>\n",
       "      <td>00:02:07</td>\n",
       "      <td>0.0</td>\n",
       "    </tr>\n",
       "  </tbody>\n",
       "</table>\n",
       "</div>"
      ],
      "text/plain": [
       "   Temperature  Turbidity  Dissolved Oxygen       PH  Ammonia  Nitrate  \\\n",
       "0      24.8750        100             4.505  8.43365     0.38      193   \n",
       "1      24.9375        100             6.601  8.43818     0.38      194   \n",
       "2      24.8750        100            15.797  8.42457     0.38      192   \n",
       "3      24.9375        100             5.046  8.43365     0.38      193   \n",
       "4      24.9375        100            38.407  8.40641     0.38      192   \n",
       "\n",
       "   Population  Fish_Length  Fish_Weight             Datetime        Date  \\\n",
       "0          50         6.96         3.36  2021-06-19 00:00:05  2021-06-19   \n",
       "1          50         6.96         3.36  2021-06-19 00:01:02  2021-06-19   \n",
       "2          50         6.96         3.36  2021-06-19 00:01:22  2021-06-19   \n",
       "3          50         6.96         3.36  2021-06-19 00:01:44  2021-06-19   \n",
       "4          50         6.96         3.36  2021-06-19 00:02:07  2021-06-19   \n",
       "\n",
       "       Time  Weight_diff  \n",
       "0  00:00:05          0.7  \n",
       "1  00:01:02          0.0  \n",
       "2  00:01:22          0.0  \n",
       "3  00:01:44          0.0  \n",
       "4  00:02:07          0.0  "
      ]
     },
     "execution_count": 4,
     "metadata": {},
     "output_type": "execute_result"
    }
   ],
   "source": [
    "df.head(5)"
   ]
  },
  {
   "cell_type": "code",
   "execution_count": 8,
   "metadata": {},
   "outputs": [
    {
     "name": "stderr",
     "output_type": "stream",
     "text": [
      "<ipython-input-8-8b0b896761bf>:2: FutureWarning: The default value of numeric_only in DataFrameGroupBy.mean is deprecated. In a future version, numeric_only will default to False. Either specify numeric_only or select only columns which should be valid for the function.\n",
      "  df_daily = df.groupby(\"Date\").mean()\n"
     ]
    }
   ],
   "source": [
    "#Group the dataframe by date, and calculate the mean of each column\n",
    "df_daily = df.groupby(\"Date\").mean()"
   ]
  },
  {
   "cell_type": "code",
   "execution_count": 9,
   "metadata": {},
   "outputs": [],
   "source": [
    "#Reset the index of the dataframe to get the daily averages\n",
    "df_daily.reset_index(inplace=True)"
   ]
  },
  {
   "cell_type": "code",
   "execution_count": 10,
   "metadata": {},
   "outputs": [
    {
     "data": {
      "text/html": [
       "<div>\n",
       "<style scoped>\n",
       "    .dataframe tbody tr th:only-of-type {\n",
       "        vertical-align: middle;\n",
       "    }\n",
       "\n",
       "    .dataframe tbody tr th {\n",
       "        vertical-align: top;\n",
       "    }\n",
       "\n",
       "    .dataframe thead th {\n",
       "        text-align: right;\n",
       "    }\n",
       "</style>\n",
       "<table border=\"1\" class=\"dataframe\">\n",
       "  <thead>\n",
       "    <tr style=\"text-align: right;\">\n",
       "      <th></th>\n",
       "      <th>Date</th>\n",
       "      <th>Temperature</th>\n",
       "      <th>Turbidity</th>\n",
       "      <th>Dissolved Oxygen</th>\n",
       "      <th>PH</th>\n",
       "      <th>Ammonia</th>\n",
       "      <th>Nitrate</th>\n",
       "      <th>Population</th>\n",
       "      <th>Fish_Length</th>\n",
       "      <th>Fish_Weight</th>\n",
       "      <th>Weight_diff</th>\n",
       "    </tr>\n",
       "  </thead>\n",
       "  <tbody>\n",
       "    <tr>\n",
       "      <th>0</th>\n",
       "      <td>2021-06-19</td>\n",
       "      <td>25.428088</td>\n",
       "      <td>100.0</td>\n",
       "      <td>12.458182</td>\n",
       "      <td>8.404279</td>\n",
       "      <td>1.151256e+07</td>\n",
       "      <td>201.838762</td>\n",
       "      <td>50.0</td>\n",
       "      <td>6.96</td>\n",
       "      <td>3.36</td>\n",
       "      <td>0.000226</td>\n",
       "    </tr>\n",
       "    <tr>\n",
       "      <th>1</th>\n",
       "      <td>2021-06-20</td>\n",
       "      <td>25.948557</td>\n",
       "      <td>100.0</td>\n",
       "      <td>12.937845</td>\n",
       "      <td>8.393613</td>\n",
       "      <td>3.800000e-01</td>\n",
       "      <td>184.574415</td>\n",
       "      <td>50.0</td>\n",
       "      <td>7.31</td>\n",
       "      <td>4.06</td>\n",
       "      <td>0.000218</td>\n",
       "    </tr>\n",
       "    <tr>\n",
       "      <th>2</th>\n",
       "      <td>2021-06-21</td>\n",
       "      <td>25.349366</td>\n",
       "      <td>100.0</td>\n",
       "      <td>9.287424</td>\n",
       "      <td>8.405416</td>\n",
       "      <td>3.800000e-01</td>\n",
       "      <td>172.322064</td>\n",
       "      <td>50.0</td>\n",
       "      <td>7.66</td>\n",
       "      <td>4.76</td>\n",
       "      <td>0.000623</td>\n",
       "    </tr>\n",
       "    <tr>\n",
       "      <th>3</th>\n",
       "      <td>2021-06-22</td>\n",
       "      <td>25.055735</td>\n",
       "      <td>100.0</td>\n",
       "      <td>9.776551</td>\n",
       "      <td>8.333842</td>\n",
       "      <td>8.082028e+05</td>\n",
       "      <td>151.653780</td>\n",
       "      <td>50.0</td>\n",
       "      <td>8.01</td>\n",
       "      <td>5.46</td>\n",
       "      <td>0.000601</td>\n",
       "    </tr>\n",
       "    <tr>\n",
       "      <th>4</th>\n",
       "      <td>2021-06-23</td>\n",
       "      <td>24.505092</td>\n",
       "      <td>100.0</td>\n",
       "      <td>7.238285</td>\n",
       "      <td>8.325194</td>\n",
       "      <td>1.107521e+06</td>\n",
       "      <td>146.988419</td>\n",
       "      <td>50.0</td>\n",
       "      <td>8.36</td>\n",
       "      <td>6.16</td>\n",
       "      <td>0.000280</td>\n",
       "    </tr>\n",
       "  </tbody>\n",
       "</table>\n",
       "</div>"
      ],
      "text/plain": [
       "         Date  Temperature  Turbidity  Dissolved Oxygen        PH  \\\n",
       "0  2021-06-19    25.428088      100.0         12.458182  8.404279   \n",
       "1  2021-06-20    25.948557      100.0         12.937845  8.393613   \n",
       "2  2021-06-21    25.349366      100.0          9.287424  8.405416   \n",
       "3  2021-06-22    25.055735      100.0          9.776551  8.333842   \n",
       "4  2021-06-23    24.505092      100.0          7.238285  8.325194   \n",
       "\n",
       "        Ammonia     Nitrate  Population  Fish_Length  Fish_Weight  Weight_diff  \n",
       "0  1.151256e+07  201.838762        50.0         6.96         3.36     0.000226  \n",
       "1  3.800000e-01  184.574415        50.0         7.31         4.06     0.000218  \n",
       "2  3.800000e-01  172.322064        50.0         7.66         4.76     0.000623  \n",
       "3  8.082028e+05  151.653780        50.0         8.01         5.46     0.000601  \n",
       "4  1.107521e+06  146.988419        50.0         8.36         6.16     0.000280  "
      ]
     },
     "execution_count": 10,
     "metadata": {},
     "output_type": "execute_result"
    }
   ],
   "source": [
    "df_daily.head(5)"
   ]
  },
  {
   "cell_type": "code",
   "execution_count": 11,
   "metadata": {},
   "outputs": [
    {
     "data": {
      "text/html": [
       "<div>\n",
       "<style scoped>\n",
       "    .dataframe tbody tr th:only-of-type {\n",
       "        vertical-align: middle;\n",
       "    }\n",
       "\n",
       "    .dataframe tbody tr th {\n",
       "        vertical-align: top;\n",
       "    }\n",
       "\n",
       "    .dataframe thead th {\n",
       "        text-align: right;\n",
       "    }\n",
       "</style>\n",
       "<table border=\"1\" class=\"dataframe\">\n",
       "  <thead>\n",
       "    <tr style=\"text-align: right;\">\n",
       "      <th></th>\n",
       "      <th>Temperature</th>\n",
       "      <th>Turbidity</th>\n",
       "      <th>Dissolved Oxygen</th>\n",
       "      <th>PH</th>\n",
       "      <th>Ammonia</th>\n",
       "      <th>Nitrate</th>\n",
       "      <th>Population</th>\n",
       "      <th>Fish_Length</th>\n",
       "      <th>Fish_Weight</th>\n",
       "      <th>Weight_diff</th>\n",
       "    </tr>\n",
       "    <tr>\n",
       "      <th>Date</th>\n",
       "      <th></th>\n",
       "      <th></th>\n",
       "      <th></th>\n",
       "      <th></th>\n",
       "      <th></th>\n",
       "      <th></th>\n",
       "      <th></th>\n",
       "      <th></th>\n",
       "      <th></th>\n",
       "      <th></th>\n",
       "    </tr>\n",
       "  </thead>\n",
       "  <tbody>\n",
       "    <tr>\n",
       "      <th>2021-06-19</th>\n",
       "      <td>25.428088</td>\n",
       "      <td>100.0</td>\n",
       "      <td>12.458182</td>\n",
       "      <td>8.404279</td>\n",
       "      <td>1.151256e+07</td>\n",
       "      <td>201.838762</td>\n",
       "      <td>50.0</td>\n",
       "      <td>6.96</td>\n",
       "      <td>3.36</td>\n",
       "      <td>0.000226</td>\n",
       "    </tr>\n",
       "    <tr>\n",
       "      <th>2021-06-20</th>\n",
       "      <td>25.948557</td>\n",
       "      <td>100.0</td>\n",
       "      <td>12.937845</td>\n",
       "      <td>8.393613</td>\n",
       "      <td>3.800000e-01</td>\n",
       "      <td>184.574415</td>\n",
       "      <td>50.0</td>\n",
       "      <td>7.31</td>\n",
       "      <td>4.06</td>\n",
       "      <td>0.000218</td>\n",
       "    </tr>\n",
       "    <tr>\n",
       "      <th>2021-06-21</th>\n",
       "      <td>25.349366</td>\n",
       "      <td>100.0</td>\n",
       "      <td>9.287424</td>\n",
       "      <td>8.405416</td>\n",
       "      <td>3.800000e-01</td>\n",
       "      <td>172.322064</td>\n",
       "      <td>50.0</td>\n",
       "      <td>7.66</td>\n",
       "      <td>4.76</td>\n",
       "      <td>0.000623</td>\n",
       "    </tr>\n",
       "    <tr>\n",
       "      <th>2021-06-22</th>\n",
       "      <td>25.055735</td>\n",
       "      <td>100.0</td>\n",
       "      <td>9.776551</td>\n",
       "      <td>8.333842</td>\n",
       "      <td>8.082028e+05</td>\n",
       "      <td>151.653780</td>\n",
       "      <td>50.0</td>\n",
       "      <td>8.01</td>\n",
       "      <td>5.46</td>\n",
       "      <td>0.000601</td>\n",
       "    </tr>\n",
       "    <tr>\n",
       "      <th>2021-06-23</th>\n",
       "      <td>24.505092</td>\n",
       "      <td>100.0</td>\n",
       "      <td>7.238285</td>\n",
       "      <td>8.325194</td>\n",
       "      <td>1.107521e+06</td>\n",
       "      <td>146.988419</td>\n",
       "      <td>50.0</td>\n",
       "      <td>8.36</td>\n",
       "      <td>6.16</td>\n",
       "      <td>0.000280</td>\n",
       "    </tr>\n",
       "    <tr>\n",
       "      <th>2021-06-24</th>\n",
       "      <td>24.432276</td>\n",
       "      <td>100.0</td>\n",
       "      <td>13.445173</td>\n",
       "      <td>8.226859</td>\n",
       "      <td>9.929543e+07</td>\n",
       "      <td>146.845308</td>\n",
       "      <td>50.0</td>\n",
       "      <td>8.71</td>\n",
       "      <td>6.86</td>\n",
       "      <td>0.000513</td>\n",
       "    </tr>\n",
       "    <tr>\n",
       "      <th>2021-06-25</th>\n",
       "      <td>24.432276</td>\n",
       "      <td>100.0</td>\n",
       "      <td>13.445173</td>\n",
       "      <td>8.226859</td>\n",
       "      <td>9.929543e+07</td>\n",
       "      <td>146.845308</td>\n",
       "      <td>50.0</td>\n",
       "      <td>8.71</td>\n",
       "      <td>6.86</td>\n",
       "      <td>0.000513</td>\n",
       "    </tr>\n",
       "    <tr>\n",
       "      <th>2021-06-26</th>\n",
       "      <td>24.432276</td>\n",
       "      <td>100.0</td>\n",
       "      <td>13.445173</td>\n",
       "      <td>8.226859</td>\n",
       "      <td>9.929543e+07</td>\n",
       "      <td>146.845308</td>\n",
       "      <td>50.0</td>\n",
       "      <td>8.71</td>\n",
       "      <td>6.86</td>\n",
       "      <td>0.000513</td>\n",
       "    </tr>\n",
       "    <tr>\n",
       "      <th>2021-06-27</th>\n",
       "      <td>24.432276</td>\n",
       "      <td>100.0</td>\n",
       "      <td>13.445173</td>\n",
       "      <td>8.226859</td>\n",
       "      <td>9.929543e+07</td>\n",
       "      <td>146.845308</td>\n",
       "      <td>50.0</td>\n",
       "      <td>8.71</td>\n",
       "      <td>6.86</td>\n",
       "      <td>0.000513</td>\n",
       "    </tr>\n",
       "    <tr>\n",
       "      <th>2021-06-28</th>\n",
       "      <td>25.041425</td>\n",
       "      <td>100.0</td>\n",
       "      <td>12.966972</td>\n",
       "      <td>7.954560</td>\n",
       "      <td>1.177527e+09</td>\n",
       "      <td>128.929399</td>\n",
       "      <td>50.0</td>\n",
       "      <td>10.11</td>\n",
       "      <td>9.66</td>\n",
       "      <td>0.000738</td>\n",
       "    </tr>\n",
       "  </tbody>\n",
       "</table>\n",
       "</div>"
      ],
      "text/plain": [
       "            Temperature  Turbidity  Dissolved Oxygen        PH       Ammonia  \\\n",
       "Date                                                                           \n",
       "2021-06-19    25.428088      100.0         12.458182  8.404279  1.151256e+07   \n",
       "2021-06-20    25.948557      100.0         12.937845  8.393613  3.800000e-01   \n",
       "2021-06-21    25.349366      100.0          9.287424  8.405416  3.800000e-01   \n",
       "2021-06-22    25.055735      100.0          9.776551  8.333842  8.082028e+05   \n",
       "2021-06-23    24.505092      100.0          7.238285  8.325194  1.107521e+06   \n",
       "2021-06-24    24.432276      100.0         13.445173  8.226859  9.929543e+07   \n",
       "2021-06-25    24.432276      100.0         13.445173  8.226859  9.929543e+07   \n",
       "2021-06-26    24.432276      100.0         13.445173  8.226859  9.929543e+07   \n",
       "2021-06-27    24.432276      100.0         13.445173  8.226859  9.929543e+07   \n",
       "2021-06-28    25.041425      100.0         12.966972  7.954560  1.177527e+09   \n",
       "\n",
       "               Nitrate  Population  Fish_Length  Fish_Weight  Weight_diff  \n",
       "Date                                                                       \n",
       "2021-06-19  201.838762        50.0         6.96         3.36     0.000226  \n",
       "2021-06-20  184.574415        50.0         7.31         4.06     0.000218  \n",
       "2021-06-21  172.322064        50.0         7.66         4.76     0.000623  \n",
       "2021-06-22  151.653780        50.0         8.01         5.46     0.000601  \n",
       "2021-06-23  146.988419        50.0         8.36         6.16     0.000280  \n",
       "2021-06-24  146.845308        50.0         8.71         6.86     0.000513  \n",
       "2021-06-25  146.845308        50.0         8.71         6.86     0.000513  \n",
       "2021-06-26  146.845308        50.0         8.71         6.86     0.000513  \n",
       "2021-06-27  146.845308        50.0         8.71         6.86     0.000513  \n",
       "2021-06-28  128.929399        50.0        10.11         9.66     0.000738  "
      ]
     },
     "execution_count": 11,
     "metadata": {},
     "output_type": "execute_result"
    }
   ],
   "source": [
    "df_daily['Date'] = pd.to_datetime(df_daily['Date'],infer_datetime_format=True)\n",
    "df_daily.set_index(\"Date\",inplace=True)\n",
    "df_daily=df_daily.resample('D').ffill()\n",
    "df_daily.head(10)"
   ]
  },
  {
   "cell_type": "code",
   "execution_count": null,
   "metadata": {},
   "outputs": [],
   "source": [
    "random_state=1234"
   ]
  },
  {
   "cell_type": "markdown",
   "metadata": {},
   "source": [
    "Create training and testing datasets"
   ]
  },
  {
   "cell_type": "code",
   "execution_count": 12,
   "metadata": {},
   "outputs": [],
   "source": [
    "X_test, y_test = df_daily[['Temperature', 'Turbidity','Dissolved Oxygen','PH','Ammonia','Nitrate']], df_daily['Weight_diff']"
   ]
  },
  {
   "cell_type": "code",
   "execution_count": 13,
   "metadata": {},
   "outputs": [
    {
     "name": "stdout",
     "output_type": "stream",
     "text": [
      "134 134\n"
     ]
    }
   ],
   "source": [
    "print(len(X_test), len(y_test))"
   ]
  },
  {
   "cell_type": "markdown",
   "metadata": {},
   "source": [
    "# Reloading the model"
   ]
  },
  {
   "cell_type": "code",
   "execution_count": 14,
   "metadata": {},
   "outputs": [],
   "source": [
    "import pickle as pkl\n",
    "with open('saved_model.pkl', 'rb') as f:\n",
    "    model = pkl.load(f)"
   ]
  },
  {
   "cell_type": "code",
   "execution_count": 17,
   "metadata": {},
   "outputs": [
    {
     "data": {
      "text/plain": [
       "Pipeline(steps=[('minmaxscaler', MinMaxScaler()),\n",
       "                ('gradientboostingregressor',\n",
       "                 GradientBoostingRegressor(alpha=0.5, random_state=1234))])"
      ]
     },
     "execution_count": 17,
     "metadata": {},
     "output_type": "execute_result"
    }
   ],
   "source": [
    "model"
   ]
  },
  {
   "cell_type": "code",
   "execution_count": 18,
   "metadata": {},
   "outputs": [
    {
     "data": {
      "text/plain": [
       "array([ 0.00798565,  0.00798565,  0.00798565,  0.01452941,  0.00974818,\n",
       "        0.013452  ,  0.013452  ,  0.013452  ,  0.013452  ,  0.01330615,\n",
       "        0.013452  ,  0.00852492,  0.00676239,  0.00676239,  0.00852492,\n",
       "        0.00852492,  0.17437199,  0.00974818,  0.00676239,  0.00676239,\n",
       "        0.01330615,  0.00852492,  0.01452941,  0.00974818,  0.00852492,\n",
       "        0.00798565,  0.01452941,  0.00974818,  0.00974818,  0.00852492,\n",
       "        0.00852492,  0.00974818,  0.0289322 ,  0.00974818,  0.00974818,\n",
       "        0.00974818,  0.00974818,  0.00974818,  0.00974818,  0.00974818,\n",
       "        0.00134396, -0.00126578,  0.01592604,  0.01616968,  0.01510179,\n",
       "        0.01510179,  0.03931579,  0.0359966 ,  0.07594782,  0.01902174,\n",
       "        0.02049904,  0.01902174,  0.02049904,  0.02049904, -0.007136  ,\n",
       "        0.02049904,  0.01552078,  0.01902174,  0.02049904,  0.02049904,\n",
       "        0.02049904,  0.02049904,  0.03506562,  0.03505819,  0.02890562,\n",
       "        0.02890562,  0.02890562,  0.02890562,  0.02890562,  0.05981392,\n",
       "        0.03207427,  0.06154244,  0.03005061,  0.02755548,  0.02755548,\n",
       "        0.02755548,  0.03767978,  0.03767978,  0.03767978,  0.03767978,\n",
       "        0.03767978,  0.03767978,  0.03767978,  0.03767978,  0.03767978,\n",
       "        0.03767978,  0.03767978,  0.03767978,  0.31441887,  0.77952649,\n",
       "        0.25844843,  0.16673081,  0.16673081,  0.16673081,  0.01088985,\n",
       "        0.0174336 ,  0.0174336 ,  0.0174336 ,  0.01615334,  0.01412967,\n",
       "        0.01150739,  0.00343873,  0.00343873,  0.00343873,  0.00343873,\n",
       "        0.00343873,  0.00343873,  0.00343873,  0.00343873,  0.00343873,\n",
       "        0.00343873,  0.00714255,  0.00343873,  0.00343873,  0.01088985,\n",
       "        0.01088985,  0.01088985,  0.01088985,  0.01088985,  0.01088985,\n",
       "        0.01088985,  0.01088985,  0.01088985,  0.01088985,  0.01088985,\n",
       "        0.01088985,  0.01316755,  0.00343873,  0.00974486,  0.00966659,\n",
       "        0.00953756,  0.01385202,  0.00921879,  0.0119058 ])"
      ]
     },
     "execution_count": 18,
     "metadata": {},
     "output_type": "execute_result"
    }
   ],
   "source": [
    "model.predict(X_test)"
   ]
  },
  {
   "cell_type": "code",
   "execution_count": 19,
   "metadata": {},
   "outputs": [
    {
     "name": "stdout",
     "output_type": "stream",
     "text": [
      "R²:0.7926932635647116 MSE:0.0025419724978337738\n"
     ]
    },
    {
     "data": {
      "image/png": "[encoded data removed]",
      "text/plain": [
       "<Figure size 1800x360 with 1 Axes>"
      ]
     },
     "metadata": {},
     "output_type": "display_data"
    }
   ],
   "source": [
    "y_true_test = np.array(y_test, dtype = object).astype(np.float32)\n",
    "\n",
    "y_pred_test=model.predict(X_test)\n",
    "test_set = pd.DataFrame(y_pred_test)\n",
    "test_set.to_csv('Weight-diff_predictions_from_gradient_boosting.csv', index = None)\n",
    "print('R\\u00B2:{} MSE:{}'.format(r2_score(y_true_test, y_pred_test), mean_squared_error(y_true_test, y_pred_test)))\n",
    "fig_verify = plt.figure(figsize=(25, 5))\n",
    "plt.plot(y_pred_test,label = 'Predicted Value')\n",
    "plt.plot(y_true_test, label = 'Actual Value')\n",
    "plt.title('Weight-diff Prediction ', fontsize=22, fontweight='bold')\n",
    "plt.ylabel('value')\n",
    "plt.xlabel('Timesteps')\n",
    "plt.legend()\n",
    "plt.show()\n",
    "fig_verify.savefig(\"model_regression_verify.png\")"
   ]
  }
 ],
 "metadata": {
  "kernelspec": {
   "display_name": "Python 3",
   "language": "python",
   "name": "python3"
  },
  "language_info": {
   "codemirror_mode": {
    "name": "ipython",
    "version": 3
   },
   "file_extension": ".py",
   "mimetype": "text/x-python",
   "name": "python",
   "nbconvert_exporter": "python",
   "pygments_lexer": "ipython3",
   "version": "3.8.3"
  }
 },
 "nbformat": 4,
 "nbformat_minor": 4
}
