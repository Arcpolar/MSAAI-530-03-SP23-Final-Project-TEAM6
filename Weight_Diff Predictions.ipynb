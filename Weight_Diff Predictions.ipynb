{
 "cells": [
  {
   "cell_type": "code",
   "execution_count": 1,
   "metadata": {},
   "outputs": [
    {
     "name": "stderr",
     "output_type": "stream",
     "text": [
      "/home/rupamay/anaconda3/lib/python3.8/site-packages/pandas/core/computation/expressions.py:20: UserWarning: Pandas requires version '2.7.3' or newer of 'numexpr' (version '2.7.1' currently installed).\n",
      "  from pandas.core.computation.check import NUMEXPR_INSTALLED\n",
      "UsageError: Line magic function `%` not found.\n"
     ]
    }
   ],
   "source": [
    "# Import the modules\n",
    "import tensorflow as tf\n",
    "import numpy as np\n",
    "import pandas as pd\n",
    "import matplotlib.pyplot as plt\n",
    "from sklearn.preprocessing import MinMaxScaler\n",
    "from sklearn.metrics import mean_squared_error, r2_score\n",
    "from sklearn.model_selection import train_test_split\n",
    "import seaborn as sns; sns.set()\n",
    "% matplotlib inline\n",
    "pd.set_option('display.float_format', lambda x: '%.5f' % x)"
   ]
  },
  {
   "cell_type": "code",
   "execution_count": 2,
   "metadata": {},
   "outputs": [],
   "source": [
    "#Load data into a pandas dataframe here\n",
    "df_daily = pd.read_csv(\"Total_Average_features.csv\",delimiter=',',low_memory=False)"
   ]
  },
  {
   "cell_type": "code",
   "execution_count": 3,
   "metadata": {},
   "outputs": [
    {
     "data": {
      "text/html": [
       "<div>\n",
       "<style scoped>\n",
       "    .dataframe tbody tr th:only-of-type {\n",
       "        vertical-align: middle;\n",
       "    }\n",
       "\n",
       "    .dataframe tbody tr th {\n",
       "        vertical-align: top;\n",
       "    }\n",
       "\n",
       "    .dataframe thead th {\n",
       "        text-align: right;\n",
       "    }\n",
       "</style>\n",
       "<table border=\"1\" class=\"dataframe\">\n",
       "  <thead>\n",
       "    <tr style=\"text-align: right;\">\n",
       "      <th></th>\n",
       "      <th>Unnamed: 0</th>\n",
       "      <th>Temperature</th>\n",
       "      <th>Turbidity</th>\n",
       "      <th>Dissolved Oxygen</th>\n",
       "      <th>PH</th>\n",
       "      <th>Ammonia</th>\n",
       "      <th>Nitrate</th>\n",
       "      <th>Weight_diff</th>\n",
       "    </tr>\n",
       "  </thead>\n",
       "  <tbody>\n",
       "    <tr>\n",
       "      <th>0</th>\n",
       "      <td>0</td>\n",
       "      <td>26.003507</td>\n",
       "      <td>26.740419</td>\n",
       "      <td>16.630300</td>\n",
       "      <td>8.319060</td>\n",
       "      <td>0.399968</td>\n",
       "      <td>319.832082</td>\n",
       "      <td>0.000306</td>\n",
       "    </tr>\n",
       "    <tr>\n",
       "      <th>1</th>\n",
       "      <td>1</td>\n",
       "      <td>25.380114</td>\n",
       "      <td>32.659848</td>\n",
       "      <td>12.117469</td>\n",
       "      <td>8.391118</td>\n",
       "      <td>0.490232</td>\n",
       "      <td>310.625758</td>\n",
       "      <td>0.000588</td>\n",
       "    </tr>\n",
       "    <tr>\n",
       "      <th>2</th>\n",
       "      <td>2</td>\n",
       "      <td>25.380462</td>\n",
       "      <td>32.783537</td>\n",
       "      <td>13.701492</td>\n",
       "      <td>8.423628</td>\n",
       "      <td>0.479658</td>\n",
       "      <td>305.318089</td>\n",
       "      <td>0.000788</td>\n",
       "    </tr>\n",
       "    <tr>\n",
       "      <th>3</th>\n",
       "      <td>3</td>\n",
       "      <td>24.549640</td>\n",
       "      <td>20.249467</td>\n",
       "      <td>9.743043</td>\n",
       "      <td>8.452607</td>\n",
       "      <td>0.501437</td>\n",
       "      <td>303.095416</td>\n",
       "      <td>0.000413</td>\n",
       "    </tr>\n",
       "    <tr>\n",
       "      <th>4</th>\n",
       "      <td>4</td>\n",
       "      <td>24.373544</td>\n",
       "      <td>14.446965</td>\n",
       "      <td>10.590942</td>\n",
       "      <td>8.491006</td>\n",
       "      <td>0.484715</td>\n",
       "      <td>312.370938</td>\n",
       "      <td>0.000951</td>\n",
       "    </tr>\n",
       "  </tbody>\n",
       "</table>\n",
       "</div>"
      ],
      "text/plain": [
       "   Unnamed: 0  Temperature  Turbidity  Dissolved Oxygen        PH   Ammonia  \\\n",
       "0           0    26.003507  26.740419         16.630300  8.319060  0.399968   \n",
       "1           1    25.380114  32.659848         12.117469  8.391118  0.490232   \n",
       "2           2    25.380462  32.783537         13.701492  8.423628  0.479658   \n",
       "3           3    24.549640  20.249467          9.743043  8.452607  0.501437   \n",
       "4           4    24.373544  14.446965         10.590942  8.491006  0.484715   \n",
       "\n",
       "      Nitrate  Weight_diff  \n",
       "0  319.832082     0.000306  \n",
       "1  310.625758     0.000588  \n",
       "2  305.318089     0.000788  \n",
       "3  303.095416     0.000413  \n",
       "4  312.370938     0.000951  "
      ]
     },
     "execution_count": 3,
     "metadata": {},
     "output_type": "execute_result"
    }
   ],
   "source": [
    "df_daily.head(5)"
   ]
  },
  {
   "cell_type": "code",
   "execution_count": 4,
   "metadata": {},
   "outputs": [],
   "source": [
    "df_daily.drop(['Unnamed: 0'], axis=1, inplace=True) "
   ]
  },
  {
   "cell_type": "code",
   "execution_count": 5,
   "metadata": {},
   "outputs": [
    {
     "data": {
      "text/html": [
       "<div>\n",
       "<style scoped>\n",
       "    .dataframe tbody tr th:only-of-type {\n",
       "        vertical-align: middle;\n",
       "    }\n",
       "\n",
       "    .dataframe tbody tr th {\n",
       "        vertical-align: top;\n",
       "    }\n",
       "\n",
       "    .dataframe thead th {\n",
       "        text-align: right;\n",
       "    }\n",
       "</style>\n",
       "<table border=\"1\" class=\"dataframe\">\n",
       "  <thead>\n",
       "    <tr style=\"text-align: right;\">\n",
       "      <th></th>\n",
       "      <th>Temperature</th>\n",
       "      <th>Turbidity</th>\n",
       "      <th>Dissolved Oxygen</th>\n",
       "      <th>PH</th>\n",
       "      <th>Ammonia</th>\n",
       "      <th>Nitrate</th>\n",
       "      <th>Weight_diff</th>\n",
       "    </tr>\n",
       "  </thead>\n",
       "  <tbody>\n",
       "    <tr>\n",
       "      <th>0</th>\n",
       "      <td>26.003507</td>\n",
       "      <td>26.740419</td>\n",
       "      <td>16.630300</td>\n",
       "      <td>8.319060</td>\n",
       "      <td>0.399968</td>\n",
       "      <td>319.832082</td>\n",
       "      <td>0.000306</td>\n",
       "    </tr>\n",
       "    <tr>\n",
       "      <th>1</th>\n",
       "      <td>25.380114</td>\n",
       "      <td>32.659848</td>\n",
       "      <td>12.117469</td>\n",
       "      <td>8.391118</td>\n",
       "      <td>0.490232</td>\n",
       "      <td>310.625758</td>\n",
       "      <td>0.000588</td>\n",
       "    </tr>\n",
       "    <tr>\n",
       "      <th>2</th>\n",
       "      <td>25.380462</td>\n",
       "      <td>32.783537</td>\n",
       "      <td>13.701492</td>\n",
       "      <td>8.423628</td>\n",
       "      <td>0.479658</td>\n",
       "      <td>305.318089</td>\n",
       "      <td>0.000788</td>\n",
       "    </tr>\n",
       "    <tr>\n",
       "      <th>3</th>\n",
       "      <td>24.549640</td>\n",
       "      <td>20.249467</td>\n",
       "      <td>9.743043</td>\n",
       "      <td>8.452607</td>\n",
       "      <td>0.501437</td>\n",
       "      <td>303.095416</td>\n",
       "      <td>0.000413</td>\n",
       "    </tr>\n",
       "    <tr>\n",
       "      <th>4</th>\n",
       "      <td>24.373544</td>\n",
       "      <td>14.446965</td>\n",
       "      <td>10.590942</td>\n",
       "      <td>8.491006</td>\n",
       "      <td>0.484715</td>\n",
       "      <td>312.370938</td>\n",
       "      <td>0.000951</td>\n",
       "    </tr>\n",
       "  </tbody>\n",
       "</table>\n",
       "</div>"
      ],
      "text/plain": [
       "   Temperature  Turbidity  Dissolved Oxygen        PH   Ammonia     Nitrate  \\\n",
       "0    26.003507  26.740419         16.630300  8.319060  0.399968  319.832082   \n",
       "1    25.380114  32.659848         12.117469  8.391118  0.490232  310.625758   \n",
       "2    25.380462  32.783537         13.701492  8.423628  0.479658  305.318089   \n",
       "3    24.549640  20.249467          9.743043  8.452607  0.501437  303.095416   \n",
       "4    24.373544  14.446965         10.590942  8.491006  0.484715  312.370938   \n",
       "\n",
       "   Weight_diff  \n",
       "0     0.000306  \n",
       "1     0.000588  \n",
       "2     0.000788  \n",
       "3     0.000413  \n",
       "4     0.000951  "
      ]
     },
     "execution_count": 5,
     "metadata": {},
     "output_type": "execute_result"
    }
   ],
   "source": [
    "df_daily.head(5)"
   ]
  },
  {
   "cell_type": "code",
   "execution_count": 6,
   "metadata": {},
   "outputs": [
    {
     "data": {
      "text/plain": [
       "<AxesSubplot:>"
      ]
     },
     "execution_count": 6,
     "metadata": {},
     "output_type": "execute_result"
    },
    {
     "data": {
      "image/png": "[encoded data removed]",
      "text/plain": [
       "<Figure size 576x576 with 2 Axes>"
      ]
     },
     "metadata": {},
     "output_type": "display_data"
    }
   ],
   "source": [
    "plt.figure(figsize=(8,8))\n",
    "sns.heatmap(df_daily.corr(), annot=True, cmap='crest',linewidth=.5)"
   ]
  },
  {
   "cell_type": "code",
   "execution_count": 7,
   "metadata": {},
   "outputs": [],
   "source": [
    "random_state=1234"
   ]
  },
  {
   "cell_type": "markdown",
   "metadata": {},
   "source": [
    "Create training and testing datasets"
   ]
  },
  {
   "cell_type": "code",
   "execution_count": 8,
   "metadata": {},
   "outputs": [],
   "source": [
    "X, Y = df_daily[['Temperature', 'Turbidity','Dissolved Oxygen','PH','Ammonia','Nitrate']], df_daily['Weight_diff']\n",
    "\n",
    "X_train, X_test, y_train, y_test = \\\n",
    "  train_test_split(X, Y, test_size=0.4, random_state=333)"
   ]
  },
  {
   "cell_type": "code",
   "execution_count": 9,
   "metadata": {},
   "outputs": [
    {
     "name": "stdout",
     "output_type": "stream",
     "text": [
      "346 231 346 231\n"
     ]
    }
   ],
   "source": [
    "print(len(X_train), len(X_test), len(y_train), len(y_test))"
   ]
  },
  {
   "cell_type": "markdown",
   "metadata": {},
   "source": [
    "# Modelling"
   ]
  },
  {
   "cell_type": "code",
   "execution_count": 10,
   "metadata": {},
   "outputs": [],
   "source": [
    "from sklearn.pipeline import make_pipeline"
   ]
  },
  {
   "cell_type": "markdown",
   "metadata": {},
   "source": [
    "\n",
    "\n",
    "Then we're going to use MinMaxScaler as one of our core transformations to our data. It takes our data and standardises it so that it's on the same scale as the rest of our data. This ensures that the algorithms treat the features as equals regardless of magnitudes.\n",
    "\n",
    "This is from the preprocessing part of scikit learn.\n",
    "\n"
   ]
  },
  {
   "cell_type": "code",
   "execution_count": 11,
   "metadata": {},
   "outputs": [],
   "source": [
    "from sklearn.linear_model import Ridge, Lasso, ElasticNet\n",
    "from sklearn.ensemble import RandomForestRegressor, GradientBoostingRegressor\n",
    "from sklearn.preprocessing import StandardScaler"
   ]
  },
  {
   "cell_type": "markdown",
   "metadata": {},
   "source": [
    "Make some pipelines! "
   ]
  },
  {
   "cell_type": "code",
   "execution_count": 12,
   "metadata": {},
   "outputs": [],
   "source": [
    "pipelines = {\n",
    "    'rf':make_pipeline(MinMaxScaler(), RandomForestRegressor(random_state=random_state)),\n",
    "    'gb':make_pipeline(MinMaxScaler(), GradientBoostingRegressor(random_state=random_state)),\n",
    "    'enet':make_pipeline(MinMaxScaler(), ElasticNet(random_state=random_state)),\n",
    "    'ridge':make_pipeline(MinMaxScaler(), Ridge(random_state=random_state)),\n",
    "    'lasso':make_pipeline(MinMaxScaler(), Lasso(random_state=random_state))\n",
    "}\n"
   ]
  },
  {
   "cell_type": "markdown",
   "metadata": {},
   "source": [
    "Setup a tuning grid\n",
    "\n",
    "Each algorithm will have it's own grid and those grids will be stored together in a python dictionary."
   ]
  },
  {
   "cell_type": "code",
   "execution_count": 13,
   "metadata": {},
   "outputs": [],
   "source": [
    "grid = {\n",
    "    'rf':{'randomforestregressor__n_estimators':[10,20,30]},\n",
    "    'gb':{'gradientboostingregressor__alpha':[0.5,0.9,0.99]},\n",
    "    'enet':{'elasticnet__alpha':[0.5,0.9,0.99]},\n",
    "    'ridge':{'ridge__alpha':[0.5,0.9,0.99]},\n",
    "    'lasso':{'lasso__alpha':[0.5,0.9,0.99]}\n",
    "}"
   ]
  },
  {
   "cell_type": "code",
   "execution_count": 14,
   "metadata": {},
   "outputs": [
    {
     "data": {
      "text/plain": [
       "{'alpha': 1.0,\n",
       " 'copy_X': True,\n",
       " 'fit_intercept': True,\n",
       " 'max_iter': 1000,\n",
       " 'normalize': False,\n",
       " 'positive': False,\n",
       " 'precompute': False,\n",
       " 'random_state': None,\n",
       " 'selection': 'cyclic',\n",
       " 'tol': 0.0001,\n",
       " 'warm_start': False}"
      ]
     },
     "execution_count": 14,
     "metadata": {},
     "output_type": "execute_result"
    }
   ],
   "source": [
    "Lasso().get_params()"
   ]
  },
  {
   "cell_type": "markdown",
   "metadata": {},
   "source": [
    "Train model using Grid Search"
   ]
  },
  {
   "cell_type": "markdown",
   "metadata": {},
   "source": [
    "As part of using GridSearch we are also doing cross validation. This holds our a section of your data and tests it to make sure the algorithm is learning to predict well.\n",
    "\n",
    "This can be done using GridSearchCV from scikit learn."
   ]
  },
  {
   "cell_type": "code",
   "execution_count": 15,
   "metadata": {},
   "outputs": [],
   "source": [
    "from sklearn.model_selection import  GridSearchCV"
   ]
  },
  {
   "cell_type": "code",
   "execution_count": 16,
   "metadata": {},
   "outputs": [
    {
     "name": "stdout",
     "output_type": "stream",
     "text": [
      "rf model has been fit.\n",
      "gb model has been fit.\n",
      "enet model has been fit.\n",
      "ridge model has been fit.\n",
      "lasso model has been fit.\n"
     ]
    }
   ],
   "source": [
    "fit_models = {}\n",
    "for algo, pipeline in pipelines.items():\n",
    "    model = GridSearchCV(pipeline, grid[algo], cv=10, n_jobs=-1)\n",
    "    model.fit(X_train, y_train)\n",
    "    fit_models[algo] = model\n",
    "    print(algo, 'model has been fit.')\n"
   ]
  },
  {
   "cell_type": "markdown",
   "metadata": {},
   "source": [
    "Let's recap:\n",
    "\n",
    "   Imported the required libraries for modern machine learning\n",
    "   Setup machine learning pipelines and used StandardScaler\n",
    "   Constructed a hyperparameter tuning grid for HPO\n",
    "   Used Grid Search CV to train our model\n"
   ]
  },
  {
   "cell_type": "code",
   "execution_count": 17,
   "metadata": {},
   "outputs": [
    {
     "data": {
      "text/plain": [
       "{'rf': GridSearchCV(cv=10,\n",
       "              estimator=Pipeline(steps=[('minmaxscaler', MinMaxScaler()),\n",
       "                                        ('randomforestregressor',\n",
       "                                         RandomForestRegressor(random_state=1234))]),\n",
       "              n_jobs=-1,\n",
       "              param_grid={'randomforestregressor__n_estimators': [10, 20, 30]}),\n",
       " 'gb': GridSearchCV(cv=10,\n",
       "              estimator=Pipeline(steps=[('minmaxscaler', MinMaxScaler()),\n",
       "                                        ('gradientboostingregressor',\n",
       "                                         GradientBoostingRegressor(random_state=1234))]),\n",
       "              n_jobs=-1,\n",
       "              param_grid={'gradientboostingregressor__alpha': [0.5, 0.9, 0.99]}),\n",
       " 'enet': GridSearchCV(cv=10,\n",
       "              estimator=Pipeline(steps=[('minmaxscaler', MinMaxScaler()),\n",
       "                                        ('elasticnet',\n",
       "                                         ElasticNet(random_state=1234))]),\n",
       "              n_jobs=-1, param_grid={'elasticnet__alpha': [0.5, 0.9, 0.99]}),\n",
       " 'ridge': GridSearchCV(cv=10,\n",
       "              estimator=Pipeline(steps=[('minmaxscaler', MinMaxScaler()),\n",
       "                                        ('ridge', Ridge(random_state=1234))]),\n",
       "              n_jobs=-1, param_grid={'ridge__alpha': [0.5, 0.9, 0.99]}),\n",
       " 'lasso': GridSearchCV(cv=10,\n",
       "              estimator=Pipeline(steps=[('minmaxscaler', MinMaxScaler()),\n",
       "                                        ('lasso', Lasso(random_state=1234))]),\n",
       "              n_jobs=-1, param_grid={'lasso__alpha': [0.5, 0.9, 0.99]})}"
      ]
     },
     "execution_count": 17,
     "metadata": {},
     "output_type": "execute_result"
    }
   ],
   "source": [
    "fit_models"
   ]
  },
  {
   "cell_type": "code",
   "execution_count": 18,
   "metadata": {},
   "outputs": [
    {
     "data": {
      "text/plain": [
       "GridSearchCV(cv=10,\n",
       "             estimator=Pipeline(steps=[('minmaxscaler', MinMaxScaler()),\n",
       "                                       ('randomforestregressor',\n",
       "                                        RandomForestRegressor(random_state=1234))]),\n",
       "             n_jobs=-1,\n",
       "             param_grid={'randomforestregressor__n_estimators': [10, 20, 30]})"
      ]
     },
     "execution_count": 18,
     "metadata": {},
     "output_type": "execute_result"
    }
   ],
   "source": [
    "fit_models['rf']"
   ]
  },
  {
   "cell_type": "markdown",
   "metadata": {},
   "source": [
    "And make a prediction by using the .predict() method."
   ]
  },
  {
   "cell_type": "code",
   "execution_count": 19,
   "metadata": {},
   "outputs": [
    {
     "data": {
      "text/plain": [
       "array([3.61111693e-03, 2.43546829e-03, 7.99637363e-01, 1.16693405e-03,\n",
       "       7.19367571e-03, 8.43026056e-04, 3.96062502e-01, 3.11657199e-02,\n",
       "       1.51980126e-02, 2.71476544e-03, 4.38990796e-02, 2.66442556e-02,\n",
       "       3.76907749e-03, 1.64765550e-01, 8.01350123e-02, 1.67303569e-03,\n",
       "       3.33865787e-03, 2.34001876e-03, 1.73705093e-03, 6.44725789e-03,\n",
       "       5.98382719e-04, 1.67954619e-03, 5.48969244e-03, 7.08217582e-02,\n",
       "       5.09054945e-01, 1.79866306e-03, 1.51225327e-02, 1.78643894e-02,\n",
       "       2.17072249e-02, 1.32010955e-02, 9.81674827e-03, 3.29605136e-02,\n",
       "       3.77980143e-02, 1.48805359e+00, 1.78405106e-02, 1.38553821e-03,\n",
       "       4.68446783e-02, 9.52724267e-03, 1.84794160e-03, 1.59099459e-03,\n",
       "       7.83690706e-02, 4.64852992e-04, 1.36636044e-03, 2.91897914e-04,\n",
       "       2.62533561e-02, 6.16216721e-02, 5.93602276e-04, 3.19920280e-02,\n",
       "       8.68269192e-01, 1.88422890e-03, 3.36931010e-02, 2.15897230e-02,\n",
       "       5.35266168e-03, 1.01265058e-02, 1.03222015e-02, 1.61466987e-03,\n",
       "       1.18707705e-02, 6.36662794e-03, 1.87551190e-03, 2.93479775e-02,\n",
       "       5.96287053e-02, 1.35020465e-03, 6.48790726e-04, 5.71076057e-02,\n",
       "       7.12551746e-04, 1.20475288e-01, 7.20374520e-04, 1.71744470e-03,\n",
       "       6.17308305e-04, 7.49056802e-03, 5.18629896e-02, 1.79309416e-03,\n",
       "       6.76285926e-01, 2.66400714e-01, 4.13267009e-03, 3.92365765e-03,\n",
       "       7.89845632e-03, 6.02622900e-03, 2.76326937e-01, 5.88391038e-03,\n",
       "       2.15765322e-01, 6.83157316e-03, 2.28766685e-03, 1.83856461e-03,\n",
       "       6.99304597e-03, 3.39543749e-03, 2.93974044e-03, 2.65930738e-03,\n",
       "       2.40016871e-03, 1.03131769e-02, 1.25526252e-02, 6.33450125e-03,\n",
       "       2.45813279e-03, 9.30663221e-03, 1.07053255e-03, 1.13656082e-02,\n",
       "       9.16258739e-04, 7.66321387e-04, 1.07057517e-03, 9.76026257e-02,\n",
       "       4.17068299e-03, 2.42208146e-02, 8.99894181e-01, 4.56060236e-01,\n",
       "       3.68379298e-02, 7.84287359e-04, 1.00629159e-03, 6.13487960e-02,\n",
       "       3.65325319e-01, 3.91349230e-02, 1.13521713e-03, 4.07321621e-02,\n",
       "       9.00725726e-03, 1.62608957e-02, 2.23632142e-01, 8.34401077e-04,\n",
       "       1.80709509e-03, 2.27397954e-03, 2.29886652e-02, 9.43786616e-04,\n",
       "       2.62627574e-03, 6.10459795e-03, 2.31055770e-03, 1.36168685e-03,\n",
       "       3.12691460e-03, 3.87905983e-01, 7.06409544e-03, 9.01918198e-02,\n",
       "       8.81796615e-03, 6.72591270e-03, 2.57935281e-02, 4.26766789e-01,\n",
       "       1.69252881e-03, 1.06883563e-03, 2.74312350e-03, 1.48765937e-03,\n",
       "       1.80587965e-02, 6.34519919e-04, 1.74667414e-03, 2.17239859e-02,\n",
       "       4.80063718e-03, 9.00909432e-03, 2.09187979e-03, 5.54145518e-02,\n",
       "       3.58734813e-03, 4.20321252e-04, 1.70371110e-03, 1.90818619e-01,\n",
       "       7.51244276e-04, 8.01293448e-01, 2.09480561e-02, 3.44376520e-03,\n",
       "       1.08107712e-03, 1.48765937e-03, 2.27397954e-03, 5.33081348e-02,\n",
       "       4.53536438e-02, 3.42473393e-03, 1.34726972e-02, 3.20336591e-03,\n",
       "       1.61781513e-01, 3.16394228e-02, 1.69561759e-03, 1.33398962e+00,\n",
       "       4.14352878e-03, 5.46227096e-03, 8.59135525e-02, 2.95902801e-03,\n",
       "       4.64339630e-03, 3.19920280e-02, 2.16498965e-03, 1.54815058e-03,\n",
       "       1.43725123e-03, 5.52446268e-04, 6.54768152e-04, 1.87551190e-03,\n",
       "       1.67014316e-02, 4.65563817e-03, 2.72152383e-03, 5.04923497e-02,\n",
       "       4.81337267e-03, 2.91897914e-04, 1.42364741e-03, 7.47750379e-03,\n",
       "       7.20374520e-04, 2.87750516e-02, 2.14690369e-02, 8.27895380e-03,\n",
       "       2.71246170e-03, 9.85268156e-04, 7.35161888e-01, 5.46015366e-04,\n",
       "       3.36862323e-03, 1.79866306e-03, 5.54244958e-03, 7.17265062e-01,\n",
       "       3.23385131e-03, 1.01753315e-02, 2.78484646e-03, 1.88422890e-03,\n",
       "       7.08217582e-02, 3.41118979e-03, 1.59099459e-03, 6.50437778e-01,\n",
       "       5.93602276e-04, 3.24818083e-02, 6.03803239e-03, 5.31784438e-02,\n",
       "       9.63206701e-02, 2.68263420e-02, 4.85745375e-02, 1.71825346e-03,\n",
       "       1.94248360e-03, 1.86087639e-03, 5.33081717e-04, 4.70781864e-03,\n",
       "       2.98761309e-02, 1.49087402e-01, 2.44561792e-01, 1.28590174e-02,\n",
       "       4.25245125e-01, 3.20661791e-02, 1.11865096e-03, 8.61539415e-04,\n",
       "       3.53835796e-03, 1.80709509e-03, 4.02049892e-03, 2.68422347e-03,\n",
       "       1.59642494e-02, 1.02867246e-03, 2.51308193e-03])"
      ]
     },
     "execution_count": 19,
     "metadata": {},
     "output_type": "execute_result"
    }
   ],
   "source": [
    "fit_models['rf'].predict(X_test)"
   ]
  },
  {
   "cell_type": "markdown",
   "metadata": {},
   "source": [
    "Loop through each model inside of the fit_models dictionary and calculate mse using the mean_squared_error() score "
   ]
  },
  {
   "cell_type": "code",
   "execution_count": 21,
   "metadata": {},
   "outputs": [
    {
     "name": "stdout",
     "output_type": "stream",
     "text": [
      "rf scores - R²:0.48401467621815797 MSE:0.034185144665899656\n",
      "gb scores - R²:0.615417997185966 MSE:0.025479390199977296\n",
      "enet scores - R²:-0.0034046014667443725 MSE:0.06647772694029701\n",
      "ridge scores - R²:0.04438394026462811 MSE:0.06331163260163311\n",
      "lasso scores - R²:-0.0034046014667443725 MSE:0.06647772694029701\n"
     ]
    }
   ],
   "source": [
    "for algo, model in fit_models.items():\n",
    "    yhat = model.predict(X_test)\n",
    "    print('{} scores - R\\u00B2:{} MSE:{}'.format(algo, r2_score(y_test, yhat), mean_squared_error(y_test, yhat)))"
   ]
  },
  {
   "cell_type": "markdown",
   "metadata": {},
   "source": [
    "Knowing that a lower MSE is better, we can tell that the Gradient Boosting Regressor is performing the best."
   ]
  },
  {
   "cell_type": "markdown",
   "metadata": {},
   "source": [
    "Saving our models"
   ]
  },
  {
   "cell_type": "code",
   "execution_count": 22,
   "metadata": {},
   "outputs": [],
   "source": [
    "bestmod = fit_models['gb'].best_estimator_"
   ]
  },
  {
   "cell_type": "code",
   "execution_count": 23,
   "metadata": {},
   "outputs": [],
   "source": [
    "y_pred_test=bestmod.predict(X_test)"
   ]
  },
  {
   "cell_type": "code",
   "execution_count": 24,
   "metadata": {},
   "outputs": [
    {
     "data": {
      "image/png": "[encoded data removed]",
      "text/plain": [
       "<Figure size 1800x360 with 1 Axes>"
      ]
     },
     "metadata": {},
     "output_type": "display_data"
    }
   ],
   "source": [
    "y_true_test = np.array(y_test, dtype = object).astype(np.float32)\n",
    "\n",
    "y_pred_test=bestmod.predict(X_test)\n",
    "\n",
    "fig_verify = plt.figure(figsize=(25, 5))\n",
    "plt.plot(y_pred_test,label = 'Predicted Value')\n",
    "plt.plot(y_true_test, label = 'Actual Value')\n",
    "plt.title('Weight-diff Prediction ', fontsize=22, fontweight='bold')\n",
    "plt.ylabel('value')\n",
    "plt.xlabel('Timesteps')\n",
    "plt.legend()\n",
    "plt.show()\n",
    "fig_verify.savefig(\"model_regression_verify.png\")"
   ]
  },
  {
   "cell_type": "markdown",
   "metadata": {},
   "source": [
    "Saving the predictions for Tableau Dashboard "
   ]
  },
  {
   "cell_type": "code",
   "execution_count": 28,
   "metadata": {},
   "outputs": [],
   "source": [
    "test_set = pd.DataFrame(y_pred_test)\n",
    "test_set.to_csv('Tableau.csv', index = None)"
   ]
  },
  {
   "cell_type": "markdown",
   "metadata": {},
   "source": [
    "Let's save this using pickle."
   ]
  },
  {
   "cell_type": "code",
   "execution_count": 25,
   "metadata": {},
   "outputs": [],
   "source": [
    "import pickle as pkl"
   ]
  },
  {
   "cell_type": "code",
   "execution_count": 26,
   "metadata": {},
   "outputs": [],
   "source": [
    "with open('saved_model.pkl', 'wb') as f:\n",
    "    pkl.dump(bestmod, f)"
   ]
  },
  {
   "cell_type": "code",
   "execution_count": null,
   "metadata": {},
   "outputs": [],
   "source": []
  }
 ],
 "metadata": {
  "kernelspec": {
   "display_name": "Python 3",
   "language": "python",
   "name": "python3"
  },
  "language_info": {
   "codemirror_mode": {
    "name": "ipython",
    "version": 3
   },
   "file_extension": ".py",
   "mimetype": "text/x-python",
   "name": "python",
   "nbconvert_exporter": "python",
   "pygments_lexer": "ipython3",
   "version": "3.8.3"
  }
 },
 "nbformat": 4,
 "nbformat_minor": 4
}
