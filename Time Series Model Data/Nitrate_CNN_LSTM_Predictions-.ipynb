{
 "cells": [
  {
   "cell_type": "code",
   "execution_count": 1,
   "metadata": {},
   "outputs": [
    {
     "name": "stderr",
     "output_type": "stream",
     "text": [
      "/home/rupamay/anaconda3/lib/python3.8/site-packages/pandas/core/computation/expressions.py:20: UserWarning: Pandas requires version '2.7.3' or newer of 'numexpr' (version '2.7.1' currently installed).\n",
      "  from pandas.core.computation.check import NUMEXPR_INSTALLED\n"
     ]
    }
   ],
   "source": [
    "import keras\n",
    "import pandas as pd\n",
    "import numpy as np\n",
    "import matplotlib.pyplot as plt\n",
    "from sklearn import preprocessing\n",
    "from sklearn.model_selection import train_test_split\n",
    "import tensorflow as tf\n",
    "from keras.models import Sequential,load_model\n",
    "from keras.layers import Dense, Dropout, LSTM\n",
    "from keras.layers.core import Activation\n",
    "from keras.utils import pad_sequences"
   ]
  },
  {
   "cell_type": "code",
   "execution_count": 2,
   "metadata": {},
   "outputs": [],
   "source": [
    "#Load our data into a pandas dataframe\n",
    "df = pd.read_csv('cleaned_data_ Folder/cleaned_Pond2.csv',delimiter=',',low_memory=False)"
   ]
  },
  {
   "cell_type": "code",
   "execution_count": 3,
   "metadata": {},
   "outputs": [
    {
     "data": {
      "text/html": [
       "<div>\n",
       "<style scoped>\n",
       "    .dataframe tbody tr th:only-of-type {\n",
       "        vertical-align: middle;\n",
       "    }\n",
       "\n",
       "    .dataframe tbody tr th {\n",
       "        vertical-align: top;\n",
       "    }\n",
       "\n",
       "    .dataframe thead th {\n",
       "        text-align: right;\n",
       "    }\n",
       "</style>\n",
       "<table border=\"1\" class=\"dataframe\">\n",
       "  <thead>\n",
       "    <tr style=\"text-align: right;\">\n",
       "      <th></th>\n",
       "      <th>Unnamed: 0</th>\n",
       "      <th>Temperature</th>\n",
       "      <th>Turbidity</th>\n",
       "      <th>Dissolved Oxygen</th>\n",
       "      <th>PH</th>\n",
       "      <th>Ammonia</th>\n",
       "      <th>Nitrate</th>\n",
       "      <th>Population</th>\n",
       "      <th>Fish_Length</th>\n",
       "      <th>Fish_Weight</th>\n",
       "      <th>Datetime</th>\n",
       "      <th>Date</th>\n",
       "      <th>Time</th>\n",
       "      <th>Weight_diff</th>\n",
       "    </tr>\n",
       "  </thead>\n",
       "  <tbody>\n",
       "    <tr>\n",
       "      <th>0</th>\n",
       "      <td>0</td>\n",
       "      <td>24.8750</td>\n",
       "      <td>100</td>\n",
       "      <td>4.505</td>\n",
       "      <td>8.43365</td>\n",
       "      <td>0.38</td>\n",
       "      <td>193</td>\n",
       "      <td>50</td>\n",
       "      <td>6.96</td>\n",
       "      <td>3.36</td>\n",
       "      <td>2021-06-19 00:00:05</td>\n",
       "      <td>2021-06-19</td>\n",
       "      <td>00:00:05</td>\n",
       "      <td>0.7</td>\n",
       "    </tr>\n",
       "    <tr>\n",
       "      <th>1</th>\n",
       "      <td>1</td>\n",
       "      <td>24.9375</td>\n",
       "      <td>100</td>\n",
       "      <td>6.601</td>\n",
       "      <td>8.43818</td>\n",
       "      <td>0.38</td>\n",
       "      <td>194</td>\n",
       "      <td>50</td>\n",
       "      <td>6.96</td>\n",
       "      <td>3.36</td>\n",
       "      <td>2021-06-19 00:01:02</td>\n",
       "      <td>2021-06-19</td>\n",
       "      <td>00:01:02</td>\n",
       "      <td>0.0</td>\n",
       "    </tr>\n",
       "    <tr>\n",
       "      <th>2</th>\n",
       "      <td>2</td>\n",
       "      <td>24.8750</td>\n",
       "      <td>100</td>\n",
       "      <td>15.797</td>\n",
       "      <td>8.42457</td>\n",
       "      <td>0.38</td>\n",
       "      <td>192</td>\n",
       "      <td>50</td>\n",
       "      <td>6.96</td>\n",
       "      <td>3.36</td>\n",
       "      <td>2021-06-19 00:01:22</td>\n",
       "      <td>2021-06-19</td>\n",
       "      <td>00:01:22</td>\n",
       "      <td>0.0</td>\n",
       "    </tr>\n",
       "    <tr>\n",
       "      <th>3</th>\n",
       "      <td>3</td>\n",
       "      <td>24.9375</td>\n",
       "      <td>100</td>\n",
       "      <td>5.046</td>\n",
       "      <td>8.43365</td>\n",
       "      <td>0.38</td>\n",
       "      <td>193</td>\n",
       "      <td>50</td>\n",
       "      <td>6.96</td>\n",
       "      <td>3.36</td>\n",
       "      <td>2021-06-19 00:01:44</td>\n",
       "      <td>2021-06-19</td>\n",
       "      <td>00:01:44</td>\n",
       "      <td>0.0</td>\n",
       "    </tr>\n",
       "    <tr>\n",
       "      <th>4</th>\n",
       "      <td>4</td>\n",
       "      <td>24.9375</td>\n",
       "      <td>100</td>\n",
       "      <td>38.407</td>\n",
       "      <td>8.40641</td>\n",
       "      <td>0.38</td>\n",
       "      <td>192</td>\n",
       "      <td>50</td>\n",
       "      <td>6.96</td>\n",
       "      <td>3.36</td>\n",
       "      <td>2021-06-19 00:02:07</td>\n",
       "      <td>2021-06-19</td>\n",
       "      <td>00:02:07</td>\n",
       "      <td>0.0</td>\n",
       "    </tr>\n",
       "  </tbody>\n",
       "</table>\n",
       "</div>"
      ],
      "text/plain": [
       "   Unnamed: 0  Temperature  Turbidity  Dissolved Oxygen       PH  Ammonia  \\\n",
       "0           0      24.8750        100             4.505  8.43365     0.38   \n",
       "1           1      24.9375        100             6.601  8.43818     0.38   \n",
       "2           2      24.8750        100            15.797  8.42457     0.38   \n",
       "3           3      24.9375        100             5.046  8.43365     0.38   \n",
       "4           4      24.9375        100            38.407  8.40641     0.38   \n",
       "\n",
       "   Nitrate  Population  Fish_Length  Fish_Weight             Datetime  \\\n",
       "0      193          50         6.96         3.36  2021-06-19 00:00:05   \n",
       "1      194          50         6.96         3.36  2021-06-19 00:01:02   \n",
       "2      192          50         6.96         3.36  2021-06-19 00:01:22   \n",
       "3      193          50         6.96         3.36  2021-06-19 00:01:44   \n",
       "4      192          50         6.96         3.36  2021-06-19 00:02:07   \n",
       "\n",
       "         Date      Time  Weight_diff  \n",
       "0  2021-06-19  00:00:05          0.7  \n",
       "1  2021-06-19  00:01:02          0.0  \n",
       "2  2021-06-19  00:01:22          0.0  \n",
       "3  2021-06-19  00:01:44          0.0  \n",
       "4  2021-06-19  00:02:07          0.0  "
      ]
     },
     "execution_count": 3,
     "metadata": {},
     "output_type": "execute_result"
    }
   ],
   "source": [
    "df.head(5)"
   ]
  },
  {
   "cell_type": "code",
   "execution_count": 4,
   "metadata": {},
   "outputs": [
    {
     "data": {
      "text/html": [
       "<div>\n",
       "<style scoped>\n",
       "    .dataframe tbody tr th:only-of-type {\n",
       "        vertical-align: middle;\n",
       "    }\n",
       "\n",
       "    .dataframe tbody tr th {\n",
       "        vertical-align: top;\n",
       "    }\n",
       "\n",
       "    .dataframe thead th {\n",
       "        text-align: right;\n",
       "    }\n",
       "</style>\n",
       "<table border=\"1\" class=\"dataframe\">\n",
       "  <thead>\n",
       "    <tr style=\"text-align: right;\">\n",
       "      <th></th>\n",
       "      <th>Temperature</th>\n",
       "      <th>Turbidity</th>\n",
       "      <th>Dissolved Oxygen</th>\n",
       "      <th>PH</th>\n",
       "      <th>Ammonia</th>\n",
       "      <th>Nitrate</th>\n",
       "      <th>Population</th>\n",
       "      <th>Fish_Length</th>\n",
       "      <th>Fish_Weight</th>\n",
       "      <th>Datetime</th>\n",
       "      <th>Weight_diff</th>\n",
       "    </tr>\n",
       "  </thead>\n",
       "  <tbody>\n",
       "    <tr>\n",
       "      <th>0</th>\n",
       "      <td>24.8750</td>\n",
       "      <td>100</td>\n",
       "      <td>4.505</td>\n",
       "      <td>8.43365</td>\n",
       "      <td>0.38</td>\n",
       "      <td>193</td>\n",
       "      <td>50</td>\n",
       "      <td>6.96</td>\n",
       "      <td>3.36</td>\n",
       "      <td>2021-06-19 00:00:05</td>\n",
       "      <td>0.7</td>\n",
       "    </tr>\n",
       "    <tr>\n",
       "      <th>1</th>\n",
       "      <td>24.9375</td>\n",
       "      <td>100</td>\n",
       "      <td>6.601</td>\n",
       "      <td>8.43818</td>\n",
       "      <td>0.38</td>\n",
       "      <td>194</td>\n",
       "      <td>50</td>\n",
       "      <td>6.96</td>\n",
       "      <td>3.36</td>\n",
       "      <td>2021-06-19 00:01:02</td>\n",
       "      <td>0.0</td>\n",
       "    </tr>\n",
       "    <tr>\n",
       "      <th>2</th>\n",
       "      <td>24.8750</td>\n",
       "      <td>100</td>\n",
       "      <td>15.797</td>\n",
       "      <td>8.42457</td>\n",
       "      <td>0.38</td>\n",
       "      <td>192</td>\n",
       "      <td>50</td>\n",
       "      <td>6.96</td>\n",
       "      <td>3.36</td>\n",
       "      <td>2021-06-19 00:01:22</td>\n",
       "      <td>0.0</td>\n",
       "    </tr>\n",
       "    <tr>\n",
       "      <th>3</th>\n",
       "      <td>24.9375</td>\n",
       "      <td>100</td>\n",
       "      <td>5.046</td>\n",
       "      <td>8.43365</td>\n",
       "      <td>0.38</td>\n",
       "      <td>193</td>\n",
       "      <td>50</td>\n",
       "      <td>6.96</td>\n",
       "      <td>3.36</td>\n",
       "      <td>2021-06-19 00:01:44</td>\n",
       "      <td>0.0</td>\n",
       "    </tr>\n",
       "    <tr>\n",
       "      <th>4</th>\n",
       "      <td>24.9375</td>\n",
       "      <td>100</td>\n",
       "      <td>38.407</td>\n",
       "      <td>8.40641</td>\n",
       "      <td>0.38</td>\n",
       "      <td>192</td>\n",
       "      <td>50</td>\n",
       "      <td>6.96</td>\n",
       "      <td>3.36</td>\n",
       "      <td>2021-06-19 00:02:07</td>\n",
       "      <td>0.0</td>\n",
       "    </tr>\n",
       "  </tbody>\n",
       "</table>\n",
       "</div>"
      ],
      "text/plain": [
       "   Temperature  Turbidity  Dissolved Oxygen       PH  Ammonia  Nitrate  \\\n",
       "0      24.8750        100             4.505  8.43365     0.38      193   \n",
       "1      24.9375        100             6.601  8.43818     0.38      194   \n",
       "2      24.8750        100            15.797  8.42457     0.38      192   \n",
       "3      24.9375        100             5.046  8.43365     0.38      193   \n",
       "4      24.9375        100            38.407  8.40641     0.38      192   \n",
       "\n",
       "   Population  Fish_Length  Fish_Weight             Datetime  Weight_diff  \n",
       "0          50         6.96         3.36  2021-06-19 00:00:05          0.7  \n",
       "1          50         6.96         3.36  2021-06-19 00:01:02          0.0  \n",
       "2          50         6.96         3.36  2021-06-19 00:01:22          0.0  \n",
       "3          50         6.96         3.36  2021-06-19 00:01:44          0.0  \n",
       "4          50         6.96         3.36  2021-06-19 00:02:07          0.0  "
      ]
     },
     "execution_count": 4,
     "metadata": {},
     "output_type": "execute_result"
    }
   ],
   "source": [
    "df.drop(\"Unnamed: 0\",axis=1,inplace=True)\n",
    "# df.drop(\"Population\",axis=1,inplace=True)\n",
    "df.drop(\"Date\",axis=1,inplace=True)\n",
    "df.drop(\"Time\",axis=1,inplace=True)\n",
    "# df.drop(\"Weight_diff\",axis=1,inplace=True)\n",
    "# df.drop(\"Fish_Length\",axis=1,inplace=True)\n",
    "# df.drop(\"Fish_Weight\",axis=1,inplace=True)\n",
    "df.head(5)"
   ]
  },
  {
   "cell_type": "code",
   "execution_count": 5,
   "metadata": {},
   "outputs": [],
   "source": [
    "df['Datetime'] = pd.to_datetime(df.Datetime,infer_datetime_format=True)\n",
    "df.set_index(\"Datetime\",inplace=True)\n",
    "df=df.resample('min').ffill()\n",
    "df=df.bfill()"
   ]
  },
  {
   "cell_type": "code",
   "execution_count": 6,
   "metadata": {},
   "outputs": [
    {
     "data": {
      "text/html": [
       "<div>\n",
       "<style scoped>\n",
       "    .dataframe tbody tr th:only-of-type {\n",
       "        vertical-align: middle;\n",
       "    }\n",
       "\n",
       "    .dataframe tbody tr th {\n",
       "        vertical-align: top;\n",
       "    }\n",
       "\n",
       "    .dataframe thead th {\n",
       "        text-align: right;\n",
       "    }\n",
       "</style>\n",
       "<table border=\"1\" class=\"dataframe\">\n",
       "  <thead>\n",
       "    <tr style=\"text-align: right;\">\n",
       "      <th></th>\n",
       "      <th>Temperature</th>\n",
       "      <th>Turbidity</th>\n",
       "      <th>Dissolved Oxygen</th>\n",
       "      <th>PH</th>\n",
       "      <th>Ammonia</th>\n",
       "      <th>Nitrate</th>\n",
       "      <th>Population</th>\n",
       "      <th>Fish_Length</th>\n",
       "      <th>Fish_Weight</th>\n",
       "      <th>Weight_diff</th>\n",
       "    </tr>\n",
       "    <tr>\n",
       "      <th>Datetime</th>\n",
       "      <th></th>\n",
       "      <th></th>\n",
       "      <th></th>\n",
       "      <th></th>\n",
       "      <th></th>\n",
       "      <th></th>\n",
       "      <th></th>\n",
       "      <th></th>\n",
       "      <th></th>\n",
       "      <th></th>\n",
       "    </tr>\n",
       "  </thead>\n",
       "  <tbody>\n",
       "    <tr>\n",
       "      <th>2021-06-19 00:00:00</th>\n",
       "      <td>24.8750</td>\n",
       "      <td>100.0</td>\n",
       "      <td>4.505</td>\n",
       "      <td>8.43365</td>\n",
       "      <td>0.38</td>\n",
       "      <td>193.0</td>\n",
       "      <td>50.0</td>\n",
       "      <td>6.96</td>\n",
       "      <td>3.36</td>\n",
       "      <td>0.7</td>\n",
       "    </tr>\n",
       "    <tr>\n",
       "      <th>2021-06-19 00:01:00</th>\n",
       "      <td>24.8750</td>\n",
       "      <td>100.0</td>\n",
       "      <td>4.505</td>\n",
       "      <td>8.43365</td>\n",
       "      <td>0.38</td>\n",
       "      <td>193.0</td>\n",
       "      <td>50.0</td>\n",
       "      <td>6.96</td>\n",
       "      <td>3.36</td>\n",
       "      <td>0.7</td>\n",
       "    </tr>\n",
       "    <tr>\n",
       "      <th>2021-06-19 00:02:00</th>\n",
       "      <td>24.9375</td>\n",
       "      <td>100.0</td>\n",
       "      <td>5.046</td>\n",
       "      <td>8.43365</td>\n",
       "      <td>0.38</td>\n",
       "      <td>193.0</td>\n",
       "      <td>50.0</td>\n",
       "      <td>6.96</td>\n",
       "      <td>3.36</td>\n",
       "      <td>0.0</td>\n",
       "    </tr>\n",
       "    <tr>\n",
       "      <th>2021-06-19 00:03:00</th>\n",
       "      <td>24.8750</td>\n",
       "      <td>100.0</td>\n",
       "      <td>2.831</td>\n",
       "      <td>8.43818</td>\n",
       "      <td>0.38</td>\n",
       "      <td>194.0</td>\n",
       "      <td>50.0</td>\n",
       "      <td>6.96</td>\n",
       "      <td>3.36</td>\n",
       "      <td>0.0</td>\n",
       "    </tr>\n",
       "    <tr>\n",
       "      <th>2021-06-19 00:04:00</th>\n",
       "      <td>24.8750</td>\n",
       "      <td>100.0</td>\n",
       "      <td>17.005</td>\n",
       "      <td>8.43365</td>\n",
       "      <td>0.38</td>\n",
       "      <td>192.0</td>\n",
       "      <td>50.0</td>\n",
       "      <td>6.96</td>\n",
       "      <td>3.36</td>\n",
       "      <td>0.0</td>\n",
       "    </tr>\n",
       "  </tbody>\n",
       "</table>\n",
       "</div>"
      ],
      "text/plain": [
       "                     Temperature  Turbidity  Dissolved Oxygen       PH  \\\n",
       "Datetime                                                                 \n",
       "2021-06-19 00:00:00      24.8750      100.0             4.505  8.43365   \n",
       "2021-06-19 00:01:00      24.8750      100.0             4.505  8.43365   \n",
       "2021-06-19 00:02:00      24.9375      100.0             5.046  8.43365   \n",
       "2021-06-19 00:03:00      24.8750      100.0             2.831  8.43818   \n",
       "2021-06-19 00:04:00      24.8750      100.0            17.005  8.43365   \n",
       "\n",
       "                     Ammonia  Nitrate  Population  Fish_Length  Fish_Weight  \\\n",
       "Datetime                                                                      \n",
       "2021-06-19 00:00:00     0.38    193.0        50.0         6.96         3.36   \n",
       "2021-06-19 00:01:00     0.38    193.0        50.0         6.96         3.36   \n",
       "2021-06-19 00:02:00     0.38    193.0        50.0         6.96         3.36   \n",
       "2021-06-19 00:03:00     0.38    194.0        50.0         6.96         3.36   \n",
       "2021-06-19 00:04:00     0.38    192.0        50.0         6.96         3.36   \n",
       "\n",
       "                     Weight_diff  \n",
       "Datetime                          \n",
       "2021-06-19 00:00:00          0.7  \n",
       "2021-06-19 00:01:00          0.7  \n",
       "2021-06-19 00:02:00          0.0  \n",
       "2021-06-19 00:03:00          0.0  \n",
       "2021-06-19 00:04:00          0.0  "
      ]
     },
     "execution_count": 6,
     "metadata": {},
     "output_type": "execute_result"
    }
   ],
   "source": [
    "df.head(5)"
   ]
  },
  {
   "cell_type": "code",
   "execution_count": 7,
   "metadata": {},
   "outputs": [
    {
     "data": {
      "text/html": [
       "<div>\n",
       "<style scoped>\n",
       "    .dataframe tbody tr th:only-of-type {\n",
       "        vertical-align: middle;\n",
       "    }\n",
       "\n",
       "    .dataframe tbody tr th {\n",
       "        vertical-align: top;\n",
       "    }\n",
       "\n",
       "    .dataframe thead th {\n",
       "        text-align: right;\n",
       "    }\n",
       "</style>\n",
       "<table border=\"1\" class=\"dataframe\">\n",
       "  <thead>\n",
       "    <tr style=\"text-align: right;\">\n",
       "      <th></th>\n",
       "      <th>Temperature</th>\n",
       "      <th>Turbidity</th>\n",
       "      <th>Dissolved Oxygen</th>\n",
       "      <th>PH</th>\n",
       "      <th>Ammonia</th>\n",
       "      <th>Nitrate</th>\n",
       "      <th>Population</th>\n",
       "      <th>Fish_Length</th>\n",
       "      <th>Fish_Weight</th>\n",
       "      <th>Weight_diff</th>\n",
       "    </tr>\n",
       "  </thead>\n",
       "  <tbody>\n",
       "    <tr>\n",
       "      <th>count</th>\n",
       "      <td>192960.00000</td>\n",
       "      <td>192960.000000</td>\n",
       "      <td>192960.000000</td>\n",
       "      <td>192960.000000</td>\n",
       "      <td>1.929600e+05</td>\n",
       "      <td>192960.000000</td>\n",
       "      <td>192960.0</td>\n",
       "      <td>192960.000000</td>\n",
       "      <td>192960.000000</td>\n",
       "      <td>192960.000000</td>\n",
       "    </tr>\n",
       "    <tr>\n",
       "      <th>mean</th>\n",
       "      <td>24.90110</td>\n",
       "      <td>95.079519</td>\n",
       "      <td>6.784840</td>\n",
       "      <td>5.186690</td>\n",
       "      <td>1.644444e+08</td>\n",
       "      <td>749.050643</td>\n",
       "      <td>50.0</td>\n",
       "      <td>22.908965</td>\n",
       "      <td>143.834214</td>\n",
       "      <td>0.016965</td>\n",
       "    </tr>\n",
       "    <tr>\n",
       "      <th>std</th>\n",
       "      <td>0.82809</td>\n",
       "      <td>16.312601</td>\n",
       "      <td>9.219671</td>\n",
       "      <td>3.238303</td>\n",
       "      <td>8.591875e+09</td>\n",
       "      <td>408.174637</td>\n",
       "      <td>0.0</td>\n",
       "      <td>8.377564</td>\n",
       "      <td>125.480153</td>\n",
       "      <td>0.304561</td>\n",
       "    </tr>\n",
       "    <tr>\n",
       "      <th>min</th>\n",
       "      <td>23.00000</td>\n",
       "      <td>1.000000</td>\n",
       "      <td>0.007000</td>\n",
       "      <td>-3.137450</td>\n",
       "      <td>6.770000e-03</td>\n",
       "      <td>61.000000</td>\n",
       "      <td>50.0</td>\n",
       "      <td>6.960000</td>\n",
       "      <td>3.360000</td>\n",
       "      <td>0.000000</td>\n",
       "    </tr>\n",
       "    <tr>\n",
       "      <th>25%</th>\n",
       "      <td>24.25000</td>\n",
       "      <td>100.000000</td>\n",
       "      <td>2.163000</td>\n",
       "      <td>2.446090</td>\n",
       "      <td>8.196800e-01</td>\n",
       "      <td>204.000000</td>\n",
       "      <td>50.0</td>\n",
       "      <td>15.910000</td>\n",
       "      <td>33.000000</td>\n",
       "      <td>0.000000</td>\n",
       "    </tr>\n",
       "    <tr>\n",
       "      <th>50%</th>\n",
       "      <td>24.81250</td>\n",
       "      <td>100.000000</td>\n",
       "      <td>3.200000</td>\n",
       "      <td>7.003710</td>\n",
       "      <td>5.979360e+00</td>\n",
       "      <td>938.000000</td>\n",
       "      <td>50.0</td>\n",
       "      <td>22.810000</td>\n",
       "      <td>95.800000</td>\n",
       "      <td>0.000000</td>\n",
       "    </tr>\n",
       "    <tr>\n",
       "      <th>75%</th>\n",
       "      <td>25.43750</td>\n",
       "      <td>100.000000</td>\n",
       "      <td>6.795000</td>\n",
       "      <td>7.421340</td>\n",
       "      <td>2.608377e+01</td>\n",
       "      <td>1072.000000</td>\n",
       "      <td>50.0</td>\n",
       "      <td>32.190000</td>\n",
       "      <td>294.800000</td>\n",
       "      <td>0.000000</td>\n",
       "    </tr>\n",
       "    <tr>\n",
       "      <th>max</th>\n",
       "      <td>27.81250</td>\n",
       "      <td>100.000000</td>\n",
       "      <td>41.011000</td>\n",
       "      <td>8.551670</td>\n",
       "      <td>9.965130e+11</td>\n",
       "      <td>2077.000000</td>\n",
       "      <td>50.0</td>\n",
       "      <td>35.320000</td>\n",
       "      <td>391.090000</td>\n",
       "      <td>9.410000</td>\n",
       "    </tr>\n",
       "  </tbody>\n",
       "</table>\n",
       "</div>"
      ],
      "text/plain": [
       "        Temperature      Turbidity  Dissolved Oxygen             PH  \\\n",
       "count  192960.00000  192960.000000     192960.000000  192960.000000   \n",
       "mean       24.90110      95.079519          6.784840       5.186690   \n",
       "std         0.82809      16.312601          9.219671       3.238303   \n",
       "min        23.00000       1.000000          0.007000      -3.137450   \n",
       "25%        24.25000     100.000000          2.163000       2.446090   \n",
       "50%        24.81250     100.000000          3.200000       7.003710   \n",
       "75%        25.43750     100.000000          6.795000       7.421340   \n",
       "max        27.81250     100.000000         41.011000       8.551670   \n",
       "\n",
       "            Ammonia        Nitrate  Population    Fish_Length    Fish_Weight  \\\n",
       "count  1.929600e+05  192960.000000    192960.0  192960.000000  192960.000000   \n",
       "mean   1.644444e+08     749.050643        50.0      22.908965     143.834214   \n",
       "std    8.591875e+09     408.174637         0.0       8.377564     125.480153   \n",
       "min    6.770000e-03      61.000000        50.0       6.960000       3.360000   \n",
       "25%    8.196800e-01     204.000000        50.0      15.910000      33.000000   \n",
       "50%    5.979360e+00     938.000000        50.0      22.810000      95.800000   \n",
       "75%    2.608377e+01    1072.000000        50.0      32.190000     294.800000   \n",
       "max    9.965130e+11    2077.000000        50.0      35.320000     391.090000   \n",
       "\n",
       "         Weight_diff  \n",
       "count  192960.000000  \n",
       "mean        0.016965  \n",
       "std         0.304561  \n",
       "min         0.000000  \n",
       "25%         0.000000  \n",
       "50%         0.000000  \n",
       "75%         0.000000  \n",
       "max         9.410000  "
      ]
     },
     "execution_count": 7,
     "metadata": {},
     "output_type": "execute_result"
    }
   ],
   "source": [
    "df.describe()"
   ]
  },
  {
   "cell_type": "code",
   "execution_count": 8,
   "metadata": {},
   "outputs": [],
   "source": [
    "df.reset_index(inplace=True)"
   ]
  },
  {
   "cell_type": "code",
   "execution_count": 9,
   "metadata": {},
   "outputs": [],
   "source": [
    "def percentage(percent, whole):\n",
    "  return (percent * whole) / 100.0"
   ]
  },
  {
   "cell_type": "code",
   "execution_count": 46,
   "metadata": {},
   "outputs": [
    {
     "name": "stdout",
     "output_type": "stream",
     "text": [
      "rows_to_work_with  77184\n",
      "training_rows_to_work_with 61747\n"
     ]
    }
   ],
   "source": [
    "chunk_prctg=40\n",
    "training_prctg=80\n",
    "validation_prctg=20\n",
    "\n",
    "rows_to_work_with=round(percentage(chunk_prctg, df.shape[0]))\n",
    "print('rows_to_work_with ',rows_to_work_with)\n",
    "training_rows_to_work_with=round(percentage(training_prctg, rows_to_work_with))\n",
    "print('training_rows_to_work_with',training_rows_to_work_with)\n",
    "                    "
   ]
  },
  {
   "cell_type": "code",
   "execution_count": 11,
   "metadata": {},
   "outputs": [],
   "source": [
    "# It does not make sense to randomize our data . In machine learning, train/test split splits the data randomly, \n",
    "# as there’s no dependence from one observation to the other. That’s not the case with our time series data.\n",
    "# Here, we’ll want to use values at the rear of the dataset for testing and everything else for training.\n",
    "# create your training and validation sets here\n",
    "start_index=0\n",
    "train_df = df[start_index:training_rows_to_work_with]\n",
    "val_df = df[training_rows_to_work_with:rows_to_work_with]"
   ]
  },
  {
   "cell_type": "code",
   "execution_count": 12,
   "metadata": {},
   "outputs": [],
   "source": [
    "val_df.to_csv(\"Combined_Pond2_val_set.csv\")"
   ]
  },
  {
   "cell_type": "code",
   "execution_count": null,
   "metadata": {},
   "outputs": [],
   "source": [
    "import seaborn as sns; sns.set()\n",
    "plt.figure(figsize=(8,8))\n",
    "sns.heatmap(train_df.corr(), annot=True, cmap='crest',linewidth=.5)"
   ]
  },
  {
   "cell_type": "markdown",
   "metadata": {},
   "source": [
    "Temperature Predictions: "
   ]
  },
  {
   "cell_type": "code",
   "execution_count": 47,
   "metadata": {},
   "outputs": [],
   "source": [
    "# X_train = train_df.drop(\"Temperature\",axis=1)\n",
    "X_train = train_df[['Nitrate','Turbidity','PH']]\n",
    "y_train = train_df['Nitrate']\n",
    "# X_test = val_df.drop(\"Temperature\",axis=1)\n",
    "X_test = val_df[['Nitrate','Turbidity','PH']]\n",
    "\n",
    "from sklearn.preprocessing import MinMaxScaler\n",
    "scaler = MinMaxScaler()\n",
    "\n",
    "# Fit the scaler on your training data\n",
    "scaler.fit(X_train)\n",
    "\n",
    "X_train_norm = scaler.transform(X_train)\n",
    "X_test_norm = scaler.transform(X_test)\n"
   ]
  },
  {
   "cell_type": "markdown",
   "metadata": {},
   "source": [
    "Preparing our Training Data sequences with label predictions"
   ]
  },
  {
   "cell_type": "code",
   "execution_count": 48,
   "metadata": {},
   "outputs": [],
   "source": [
    "# we'll start out with a 2 minute input sequence and a one minute predictive horizon\n",
    "seq_arrays = []\n",
    "seq_labs = []\n",
    "seq_length = 2\n",
    "ph = 1\n",
    "\n",
    "\n",
    "num_train_rows=train_df.shape[0]\n",
    "\n",
    "#create list of sequence length Temperature readings\n",
    "for start in range(0,num_train_rows-seq_length-ph):\n",
    "    seq_arrays.append(X_train_norm[start:start+seq_length])\n",
    "#     seq_arrays.append(train_df[feat_cols].iloc[start:start+seq_length].to_numpy())\n",
    "    seq_labs.append([train_df['Nitrate'].iloc[start:start+seq_length+1].to_numpy()[-1]])\n",
    "\n",
    "seq_arrays = np.array(seq_arrays, dtype = object).astype(np.float32)\n",
    "seq_labs = np.array(seq_labs, dtype = object).astype(np.float32)"
   ]
  },
  {
   "cell_type": "code",
   "execution_count": 49,
   "metadata": {},
   "outputs": [
    {
     "data": {
      "text/plain": [
       "(92618, 2, 3)"
      ]
     },
     "execution_count": 49,
     "metadata": {},
     "output_type": "execute_result"
    }
   ],
   "source": [
    "seq_arrays.shape"
   ]
  },
  {
   "cell_type": "code",
   "execution_count": 50,
   "metadata": {},
   "outputs": [
    {
     "data": {
      "text/plain": [
       "(92618, 1)"
      ]
     },
     "execution_count": 50,
     "metadata": {},
     "output_type": "execute_result"
    }
   ],
   "source": [
    "seq_labs.shape"
   ]
  },
  {
   "cell_type": "markdown",
   "metadata": {},
   "source": [
    "Preparing our Test Data sequences with label predictions"
   ]
  },
  {
   "cell_type": "code",
   "execution_count": 51,
   "metadata": {},
   "outputs": [],
   "source": [
    "val_arrays = []\n",
    "val_labs = []\n",
    "\n",
    "num_test_rows=val_df.shape[0]\n",
    "\n",
    "i=1\n",
    "\n",
    "#create list of Temperature readings starting with a minimum of two readings\n",
    "for start in range(2,num_test_rows):\n",
    "    incoming_df=val_df[0:start] \n",
    "    \n",
    "    if len(incoming_df) > seq_length: \n",
    "        \n",
    "        val_arrays.append(X_test_norm[i:i+seq_length])\n",
    "        val_labs.append([incoming_df['Nitrate'].iloc[i:i+seq_length+ph].to_numpy()[-1]])\n",
    "        i+=1\n",
    "        \n",
    "    else:\n",
    "        \n",
    "        val_arrays.append(X_test_norm[0:len(incoming_df)])\n",
    "        val_labs.append([incoming_df['Nitrate'].iloc[0:len(incoming_df)+ph].to_numpy()[-1]])\n",
    "        \n",
    "# use the pad_sequences function on your input sequences\n",
    "val_arrays = tf.keras.preprocessing.sequence.pad_sequences(val_arrays, dtype='float32', padding='post',value=val_df[\"Nitrate\"].mean())     \n",
    "\n",
    "#convert labels to numpy arrays and floats to appease keras/tensorflow\n",
    "val_labs = np.array(val_labs, dtype = object).astype(np.float32)"
   ]
  },
  {
   "cell_type": "code",
   "execution_count": 52,
   "metadata": {},
   "outputs": [
    {
     "data": {
      "text/plain": [
       "(23153, 2, 3)"
      ]
     },
     "execution_count": 52,
     "metadata": {},
     "output_type": "execute_result"
    }
   ],
   "source": [
    "val_arrays.shape"
   ]
  },
  {
   "cell_type": "code",
   "execution_count": 53,
   "metadata": {},
   "outputs": [
    {
     "data": {
      "text/plain": [
       "(23153, 1)"
      ]
     },
     "execution_count": 53,
     "metadata": {},
     "output_type": "execute_result"
    }
   ],
   "source": [
    "val_labs.shape"
   ]
  },
  {
   "cell_type": "markdown",
   "metadata": {},
   "source": [
    "\n",
    "\n",
    "## Model Training\n",
    "\n",
    "We will begin with a model architecture very similar to the model we built in the lab session. We will have two LSTM layers, with 5 and 3 hidden units respectively, and we will apply dropout after each LSTM layer. However, we will use a linear final layer and MSE for our loss function, since our output is continuous instead of binary.\n"
   ]
  },
  {
   "cell_type": "markdown",
   "metadata": {},
   "source": [
    "CNN-LSTM Model"
   ]
  },
  {
   "cell_type": "code",
   "execution_count": 54,
   "metadata": {},
   "outputs": [
    {
     "name": "stdout",
     "output_type": "stream",
     "text": [
      "Model: \"sequential_2\"\n",
      "_________________________________________________________________\n",
      " Layer (type)                Output Shape              Param #   \n",
      "=================================================================\n",
      " conv1d_6 (Conv1D)           (None, 2, 32)             224       \n",
      "                                                                 \n",
      " max_pooling1d_6 (MaxPooling  (None, 2, 32)            0         \n",
      " 1D)                                                             \n",
      "                                                                 \n",
      " batch_normalization_6 (Batc  (None, 2, 32)            128       \n",
      " hNormalization)                                                 \n",
      "                                                                 \n",
      " conv1d_7 (Conv1D)           (None, 2, 48)             3120      \n",
      "                                                                 \n",
      " max_pooling1d_7 (MaxPooling  (None, 2, 48)            0         \n",
      " 1D)                                                             \n",
      "                                                                 \n",
      " batch_normalization_7 (Batc  (None, 2, 48)            192       \n",
      " hNormalization)                                                 \n",
      "                                                                 \n",
      " conv1d_8 (Conv1D)           (None, 2, 64)             6208      \n",
      "                                                                 \n",
      " max_pooling1d_8 (MaxPooling  (None, 2, 64)            0         \n",
      " 1D)                                                             \n",
      "                                                                 \n",
      " batch_normalization_8 (Batc  (None, 2, 64)            256       \n",
      " hNormalization)                                                 \n",
      "                                                                 \n",
      " lstm_2 (LSTM)               (None, 10)                3000      \n",
      "                                                                 \n",
      " flatten_2 (Flatten)         (None, 10)                0         \n",
      "                                                                 \n",
      " dense_4 (Dense)             (None, 64)                704       \n",
      "                                                                 \n",
      " dense_5 (Dense)             (None, 1)                 65        \n",
      "                                                                 \n",
      " activation_2 (Activation)   (None, 1)                 0         \n",
      "                                                                 \n",
      "=================================================================\n",
      "Total params: 13,897\n",
      "Trainable params: 13,609\n",
      "Non-trainable params: 288\n",
      "_________________________________________________________________\n",
      "None\n"
     ]
    }
   ],
   "source": [
    "from keras.layers import Conv1D, BatchNormalization,MaxPooling1D,Flatten\n",
    "from keras import regularizers\n",
    "\n",
    "model_path = 'CNN_LSTM_model_Nitrate.h5'\n",
    "# build the network\n",
    "nb_features = seq_arrays.shape[2]\n",
    "nb_out = seq_labs.shape[1]\n",
    "model = Sequential()\n",
    "\n",
    "model.add(Conv1D(32,input_shape=(seq_length, nb_features),kernel_size=2, padding=\"causal\",activation=\"relu\",kernel_regularizer=regularizers.l2(0.01)))\n",
    "model.add(MaxPooling1D(pool_size=1))\n",
    "model.add(BatchNormalization())\n",
    "# model.add(Dropout(0.6))\n",
    "\n",
    "model.add(Conv1D(48,kernel_size=2,padding=\"causal\",activation=\"relu\",dilation_rate=2,kernel_regularizer=regularizers.l2(0.01)))\n",
    "model.add(MaxPooling1D(pool_size=1))\n",
    "model.add(BatchNormalization())\n",
    "# model.add(Dropout(0.2))\n",
    "\n",
    "model.add(Conv1D(64,kernel_size=2,padding=\"causal\",activation=\"relu\",dilation_rate=4,kernel_regularizer=regularizers.l2(0.01)))\n",
    "model.add(MaxPooling1D(pool_size=1))\n",
    "model.add(BatchNormalization())\n",
    "# model.add(Dropout(0.2))\n",
    "\n",
    "model.add(LSTM(10))\n",
    "model.add(Flatten())\n",
    "model.add(Dense(64, activation='relu', kernel_regularizer=regularizers.l2(0.01)))\n",
    "# model.add(Dropout(0.2))\n",
    "\n",
    "model.add(Dense(units = nb_out))\n",
    "model.add(Activation(\"linear\"))\n",
    "optimizer = keras.optimizers.Adam(learning_rate = 0.1)\n",
    "model.compile(loss='mean_squared_error', optimizer=optimizer,metrics=['mse'])\n",
    "print(model.summary())"
   ]
  },
  {
   "cell_type": "code",
   "execution_count": 61,
   "metadata": {},
   "outputs": [
    {
     "name": "stdout",
     "output_type": "stream",
     "text": [
      "Epoch 1/100\n",
      "917/917 - 3s - loss: 2879.8242 - mse: 2315.9976 - val_loss: 45031.1797 - val_mse: 44514.4180 - 3s/epoch - 3ms/step\n",
      "Epoch 2/100\n",
      "917/917 - 3s - loss: 4406.3721 - mse: 3905.7446 - val_loss: 3806.8035 - val_mse: 3253.9138 - 3s/epoch - 3ms/step\n",
      "Epoch 3/100\n",
      "917/917 - 3s - loss: 3403.8555 - mse: 2740.1250 - val_loss: 3811.3442 - val_mse: 3166.0642 - 3s/epoch - 3ms/step\n",
      "Epoch 4/100\n",
      "917/917 - 3s - loss: 4026.6541 - mse: 3386.8887 - val_loss: 9196.2969 - val_mse: 8574.4297 - 3s/epoch - 3ms/step\n",
      "Epoch 5/100\n",
      "917/917 - 3s - loss: 3080.2908 - mse: 2524.4668 - val_loss: 3271.4893 - val_mse: 2778.3135 - 3s/epoch - 3ms/step\n",
      "Epoch 6/100\n",
      "917/917 - 3s - loss: 5128.4009 - mse: 4610.1919 - val_loss: 25807.1777 - val_mse: 25290.8164 - 3s/epoch - 3ms/step\n",
      "Epoch 7/100\n",
      "917/917 - 3s - loss: 3339.2004 - mse: 2831.1885 - val_loss: 3436.6335 - val_mse: 2934.2683 - 3s/epoch - 3ms/step\n",
      "Epoch 8/100\n",
      "917/917 - 3s - loss: 2170.8359 - mse: 1721.2731 - val_loss: 17768.9316 - val_mse: 17358.7324 - 3s/epoch - 3ms/step\n",
      "Epoch 9/100\n",
      "917/917 - 3s - loss: 2226.1416 - mse: 1827.2888 - val_loss: 5521.2866 - val_mse: 5151.7954 - 3s/epoch - 3ms/step\n",
      "Epoch 10/100\n",
      "917/917 - 3s - loss: 2880.8477 - mse: 2524.3103 - val_loss: 19065.3848 - val_mse: 18722.9531 - 3s/epoch - 3ms/step\n",
      "Epoch 11/100\n",
      "917/917 - 3s - loss: 5176.1802 - mse: 4693.9448 - val_loss: 2059.6326 - val_mse: 1563.9165 - 3s/epoch - 3ms/step\n",
      "Epoch 12/100\n",
      "917/917 - 3s - loss: 2754.4243 - mse: 2284.3135 - val_loss: 41243.0273 - val_mse: 40687.4961 - 3s/epoch - 3ms/step\n",
      "Epoch 13/100\n",
      "917/917 - 3s - loss: 6463.2246 - mse: 5851.2114 - val_loss: 4653.8286 - val_mse: 4067.3887 - 3s/epoch - 3ms/step\n",
      "Epoch 14/100\n",
      "917/917 - 3s - loss: 3219.1914 - mse: 2670.8774 - val_loss: 3489.6272 - val_mse: 2980.6982 - 3s/epoch - 3ms/step\n",
      "Epoch 15/100\n",
      "917/917 - 3s - loss: 3214.2705 - mse: 2728.6816 - val_loss: 11978.1543 - val_mse: 11528.2471 - 3s/epoch - 3ms/step\n",
      "Epoch 16/100\n",
      "917/917 - 3s - loss: 3175.1223 - mse: 2717.8418 - val_loss: 11316.8887 - val_mse: 10852.9854 - 3s/epoch - 3ms/step\n",
      "Epoch 17/100\n",
      "917/917 - 3s - loss: 3550.7349 - mse: 3111.6470 - val_loss: 2939.4165 - val_mse: 2533.2000 - 3s/epoch - 3ms/step\n",
      "Epoch 18/100\n",
      "917/917 - 3s - loss: 3710.6748 - mse: 3252.0591 - val_loss: 4659.5815 - val_mse: 4204.6885 - 3s/epoch - 3ms/step\n",
      "Epoch 19/100\n",
      "917/917 - 3s - loss: 4398.7129 - mse: 3944.8137 - val_loss: 22778.0547 - val_mse: 22319.1973 - 3s/epoch - 3ms/step\n",
      "Epoch 20/100\n",
      "917/917 - 3s - loss: 4400.7974 - mse: 3861.1577 - val_loss: 21934.7305 - val_mse: 21404.4941 - 3s/epoch - 3ms/step\n",
      "Epoch 21/100\n",
      "917/917 - 3s - loss: 3315.3569 - mse: 2809.5046 - val_loss: 25911.3828 - val_mse: 25397.0449 - 3s/epoch - 3ms/step\n",
      "dict_keys(['loss', 'mse', 'val_loss', 'val_mse'])\n"
     ]
    }
   ],
   "source": [
    "history = model.fit(seq_arrays, seq_labs, epochs=100, batch_size=100,validation_split=0.01, verbose=2,\n",
    "callbacks = [keras.callbacks.EarlyStopping(monitor='val_loss',min_delta=0, patience=10, verbose=0, mode='min'),\n",
    "keras.callbacks.ModelCheckpoint(model_path,monitor='val_loss', save_best_only=True,mode='min', verbose=0)])\n",
    "# list all data in history\n",
    "print(history.history.keys())"
   ]
  },
  {
   "cell_type": "code",
   "execution_count": 62,
   "metadata": {},
   "outputs": [
    {
     "data": {
      "image/png": "[encoded data removed]",
      "text/plain": [
       "<Figure size 720x720 with 1 Axes>"
      ]
     },
     "metadata": {
      "needs_background": "light"
     },
     "output_type": "display_data"
    },
    {
     "data": {
      "image/png": "[encoded data removed]",
      "text/plain": [
       "<Figure size 720x720 with 1 Axes>"
      ]
     },
     "metadata": {
      "needs_background": "light"
     },
     "output_type": "display_data"
    }
   ],
   "source": [
    "# summarize history for MSE\n",
    "fig_acc = plt.figure(figsize=(10, 10))\n",
    "plt.plot(history.history['mse'])\n",
    "plt.plot(history.history['val_mse'])\n",
    "plt.title('CNN_LSTM_model MSE')\n",
    "plt.ylabel('MSE')\n",
    "plt.xlabel('epoch')\n",
    "plt.legend(['train', 'test'], loc='upper left')\n",
    "plt.show()\n",
    "fig_acc.savefig(\"CNN_LSTM_mse1.png\")\n",
    "\n",
    "# summarize history for Loss\n",
    "fig_acc = plt.figure(figsize=(10, 10))\n",
    "plt.plot(history.history['loss'])\n",
    "plt.plot(history.history['val_loss'])\n",
    "plt.title('CNN_LSTM_model loss')\n",
    "plt.ylabel('loss')\n",
    "plt.xlabel('epoch')\n",
    "plt.legend(['train', 'test'], loc='upper left')\n",
    "plt.show()\n",
    "fig_acc.savefig(\"CNN_LSTM_loss1.png\")\n"
   ]
  },
  {
   "cell_type": "markdown",
   "metadata": {},
   "source": [
    "We will now run this validation data through our CNN-LSTM model and visualize its performance "
   ]
  },
  {
   "cell_type": "code",
   "execution_count": 63,
   "metadata": {},
   "outputs": [
    {
     "name": "stdout",
     "output_type": "stream",
     "text": [
      "724/724 - 1s - loss: 34972.2461 - mse: 34457.9766 - 1s/epoch - 2ms/step\n",
      "\n",
      "MSE: 34457.9765625\n",
      "724/724 [==============================] - 1s 2ms/step\n"
     ]
    },
    {
     "data": {
      "image/png": "[encoded data removed]",
      "text/plain": [
       "<Figure size 1800x360 with 1 Axes>"
      ]
     },
     "metadata": {
      "needs_background": "light"
     },
     "output_type": "display_data"
    }
   ],
   "source": [
    "scores_test = model.evaluate(val_arrays, val_labs, verbose=2)\n",
    "print('\\nMSE: {}'.format(scores_test[1]))\n",
    "\n",
    "y_pred_test = model.predict(val_arrays)\n",
    "y_true_test = val_labs\n",
    "\n",
    "test_set = pd.DataFrame(y_pred_test)\n",
    "test_set.to_csv('Nitrate_predictions1.csv', index = None)\n",
    "\n",
    "# Plot the predicted data vs. the actual data\n",
    "# we will limit our plot to the first 200 predictions for better visualization\n",
    "fig_verify = plt.figure(figsize=(25, 5))\n",
    "# plt.plot(y_pred_test[-100:], label = 'Predicted Value')\n",
    "# plt.plot(y_true_test[-100:], label = 'Actual Value')\n",
    "plt.plot(y_pred_test, label = 'Predicted Value')\n",
    "plt.plot(y_true_test, label = 'Actual Value')\n",
    "plt.title('Nitrate Prediction from CNN-LSTM model ', fontsize=22, fontweight='bold')\n",
    "plt.ylabel('Nitrate')\n",
    "plt.xlabel('Timesteps')\n",
    "plt.legend()\n",
    "plt.show()\n",
    "fig_verify.savefig(\"Nitrate_Predictions.png\")"
   ]
  },
  {
   "cell_type": "code",
   "execution_count": null,
   "metadata": {},
   "outputs": [],
   "source": [
    "scores_test = model.evaluate(val_arrays, val_labs, verbose=2)\n",
    "print('\\nMSE: {}'.format(scores_test[1]))\n",
    "\n",
    "y_pred_test = model.predict(val_arrays)\n",
    "y_true_test = val_labs\n",
    "\n",
    "test_set = pd.DataFrame(y_pred_test)\n",
    "test_set.to_csv('Temperature_predictions.csv', index = None)\n",
    "\n",
    "# Plot the predicted data vs. the actual data\n",
    "# we will limit our plot to the first 200 predictions for better visualization\n",
    "fig_verify = plt.figure(figsize=(25, 5))\n",
    "plt.plot(y_pred_test[-1400:], label = 'Predicted Value')\n",
    "plt.plot(y_true_test[-1400:], label = 'Actual Value')\n",
    "# plt.plot(y_pred_test, label = 'Predicted Value')\n",
    "# plt.plot(y_true_test, label = 'Actual Value')\n",
    "plt.title('Temperature Prediction from CNN-LSTM model ', fontsize=22, fontweight='bold')\n",
    "plt.ylabel('Temperature')\n",
    "plt.xlabel('Timesteps')\n",
    "plt.legend()\n",
    "plt.show()\n",
    "fig_verify.savefig(\"Temperature_Predictions.png\")"
   ]
  },
  {
   "cell_type": "markdown",
   "metadata": {},
   "source": [
    "pH Predictions"
   ]
  },
  {
   "cell_type": "code",
   "execution_count": null,
   "metadata": {},
   "outputs": [],
   "source": [
    "# X_train = train_df.drop(\"Temperature\",axis=1)\n",
    "X_train = train_df[['Temperature','PH']]\n",
    "y_train = train_df['PH']\n",
    "# X_test = val_df.drop(\"Temperature\",axis=1)\n",
    "X_test = val_df[['Temperature','PH']]\n",
    "\n",
    "from sklearn.preprocessing import MinMaxScaler\n",
    "scaler = MinMaxScaler()\n",
    "\n",
    "# Fit the scaler on your training data\n",
    "scaler.fit(X_train)\n",
    "\n",
    "X_train_norm = scaler.transform(X_train)\n",
    "X_test_norm = scaler.transform(X_test)"
   ]
  },
  {
   "cell_type": "code",
   "execution_count": null,
   "metadata": {},
   "outputs": [],
   "source": [
    "# we'll start out with a 2 minute input sequence and a one minute predictive horizon\n",
    "seq_arrays = []\n",
    "seq_labs = []\n",
    "seq_length = 2\n",
    "ph = 1\n",
    "\n",
    "\n",
    "num_train_rows=train_df.shape[0]\n",
    "\n",
    "#create list of sequence length Temperature readings\n",
    "for start in range(0,num_train_rows-seq_length-ph):\n",
    "    seq_arrays.append(X_train_norm[start:start+seq_length])\n",
    "#     seq_arrays.append(train_df[feat_cols].iloc[start:start+seq_length].to_numpy())\n",
    "    seq_labs.append([train_df['PH'].iloc[start:start+seq_length+1].to_numpy()[-1]])\n",
    "\n",
    "seq_arrays = np.array(seq_arrays, dtype = object).astype(np.float32)\n",
    "seq_labs = np.array(seq_labs, dtype = object).astype(np.float32)"
   ]
  },
  {
   "cell_type": "code",
   "execution_count": null,
   "metadata": {},
   "outputs": [],
   "source": [
    "val_arrays = []\n",
    "val_labs = []\n",
    "\n",
    "num_test_rows=val_df.shape[0]\n",
    "\n",
    "i=1\n",
    "\n",
    "#create list of Temperature readings starting with a minimum of two readings\n",
    "for start in range(2,num_test_rows):\n",
    "    incoming_df=val_df[0:start] \n",
    "    \n",
    "    if len(incoming_df) > seq_length: \n",
    "        \n",
    "        val_arrays.append(X_test_norm[i:i+seq_length])\n",
    "        val_labs.append([incoming_df['PH'].iloc[i:i+seq_length+ph].to_numpy()[-1]])\n",
    "        i+=1\n",
    "        \n",
    "    else:\n",
    "        \n",
    "        val_arrays.append(X_test_norm[0:len(incoming_df)])\n",
    "        val_labs.append([incoming_df['PH'].iloc[0:len(incoming_df)+ph].to_numpy()[-1]])\n",
    "        \n",
    "# use the pad_sequences function on your input sequences\n",
    "val_arrays = tf.keras.preprocessing.sequence.pad_sequences(val_arrays, dtype='float32', padding='post',value=val_df[\"PH\"].mean())     \n",
    "\n",
    "#convert labels to numpy arrays and floats to appease keras/tensorflow\n",
    "val_labs = np.array(val_labs, dtype = object).astype(np.float32)"
   ]
  },
  {
   "cell_type": "code",
   "execution_count": null,
   "metadata": {},
   "outputs": [],
   "source": [
    "print(val_arrays.shape,val_labs.shape,seq_arrays.shape,seq_labs.shape)"
   ]
  },
  {
   "cell_type": "code",
   "execution_count": null,
   "metadata": {},
   "outputs": [],
   "source": [
    "from keras.layers import Conv1D, BatchNormalization\n",
    "model_path = 'CNN_LSTM_model1.h5'\n",
    "# build the network\n",
    "nb_features = seq_arrays.shape[2]\n",
    "nb_out = seq_labs.shape[1]\n",
    "model = Sequential()\n",
    "\n",
    "model.add(Conv1D(32,input_shape=(seq_length, nb_features),kernel_size=2, padding=\"causal\",activation=\"relu\"))\n",
    "model.add(BatchNormalization())\n",
    "model.add(Dropout(0.2))\n",
    "\n",
    "model.add(Conv1D(48,kernel_size=2,padding=\"causal\",activation=\"relu\",dilation_rate=2))\n",
    "model.add(BatchNormalization())\n",
    "model.add(Dropout(0.2))\n",
    "\n",
    "model.add(Conv1D(64,kernel_size=2,padding=\"causal\",activation=\"relu\",dilation_rate=4))\n",
    "model.add(BatchNormalization())\n",
    "model.add(Dropout(0.4))\n",
    "\n",
    "model.add(LSTM(50))\n",
    "model.add(Dropout(0.2))\n",
    "\n",
    "model.add(Dense(units = nb_out))\n",
    "model.add(Activation(\"linear\"))\n",
    "optimizer = keras.optimizers.Adam(learning_rate = 0.001)\n",
    "model.compile(loss='mean_squared_error', optimizer=optimizer,metrics=['mse'])\n",
    "print(model.summary())"
   ]
  },
  {
   "cell_type": "code",
   "execution_count": null,
   "metadata": {},
   "outputs": [],
   "source": [
    "history = model.fit(seq_arrays, seq_labs, epochs=100, batch_size=50,validation_split=0.05, verbose=2,\n",
    "callbacks = [keras.callbacks.EarlyStopping(monitor='val_loss',min_delta=0, patience=10, verbose=0, mode='min'),\n",
    "keras.callbacks.ModelCheckpoint(model_path,monitor='val_loss', save_best_only=True,mode='min', verbose=0)])\n",
    "# list all data in history\n",
    "print(history.history.keys())"
   ]
  },
  {
   "cell_type": "code",
   "execution_count": null,
   "metadata": {},
   "outputs": [],
   "source": [
    "# summarize history for MSE\n",
    "fig_acc = plt.figure(figsize=(10, 10))\n",
    "plt.plot(history.history['mse'])\n",
    "plt.plot(history.history['val_mse'])\n",
    "plt.title('CNN_LSTM_model MSE')\n",
    "plt.ylabel('MSE')\n",
    "plt.xlabel('epoch')\n",
    "plt.legend(['train', 'test'], loc='upper left')\n",
    "plt.show()\n",
    "fig_acc.savefig(\"CNN_LSTM_mse1.png\")\n",
    "\n",
    "# summarize history for Loss\n",
    "fig_acc = plt.figure(figsize=(10, 10))\n",
    "plt.plot(history.history['loss'])\n",
    "plt.plot(history.history['val_loss'])\n",
    "plt.title('CNN_LSTM_model loss')\n",
    "plt.ylabel('loss')\n",
    "plt.xlabel('epoch')\n",
    "plt.legend(['train', 'test'], loc='upper left')\n",
    "plt.show()\n",
    "fig_acc.savefig(\"CNN_LSTM_loss1.png\")\n"
   ]
  },
  {
   "cell_type": "code",
   "execution_count": null,
   "metadata": {},
   "outputs": [],
   "source": [
    "scores_test = model.evaluate(val_arrays, val_labs, verbose=2)\n",
    "print('\\nMSE: {}'.format(scores_test[1]))\n",
    "\n",
    "y_pred_test = model.predict(val_arrays)\n",
    "y_true_test = val_labs\n",
    "\n",
    "test_set = pd.DataFrame(y_pred_test)\n",
    "test_set.to_csv('pH_predictions.csv', index = None)\n",
    "\n",
    "# Plot the predicted data vs. the actual data\n",
    "# we will limit our plot to the first 200 predictions for better visualization\n",
    "fig_verify = plt.figure(figsize=(25, 5))\n",
    "# plt.plot(y_pred_test[-100:], label = 'Predicted Value')\n",
    "# plt.plot(y_true_test[-100:], label = 'Actual Value')\n",
    "plt.plot(y_pred_test, label = 'Predicted Value')\n",
    "plt.plot(y_true_test, label = 'Actual Value')\n",
    "plt.title('pH Prediction from CNN-LSTM model ', fontsize=22, fontweight='bold')\n",
    "plt.ylabel('pH')\n",
    "plt.xlabel('Timesteps')\n",
    "plt.legend()\n",
    "plt.show()\n",
    "fig_verify.savefig(\"pH_Predictions.png\")"
   ]
  },
  {
   "cell_type": "markdown",
   "metadata": {},
   "source": [
    "Turbidity Predictions"
   ]
  },
  {
   "cell_type": "code",
   "execution_count": null,
   "metadata": {},
   "outputs": [],
   "source": []
  }
 ],
 "metadata": {
  "kernelspec": {
   "display_name": "Python 3",
   "language": "python",
   "name": "python3"
  },
  "language_info": {
   "codemirror_mode": {
    "name": "ipython",
    "version": 3
   },
   "file_extension": ".py",
   "mimetype": "text/x-python",
   "name": "python",
   "nbconvert_exporter": "python",
   "pygments_lexer": "ipython3",
   "version": "3.8.3"
  }
 },
 "nbformat": 4,
 "nbformat_minor": 5
}
